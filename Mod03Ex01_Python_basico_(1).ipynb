{
  "cells": [
    {
      "cell_type": "markdown",
      "metadata": {
        "id": "view-in-github",
        "colab_type": "text"
      },
      "source": [
        "<a href=\"https://colab.research.google.com/github/Thiago24041985/projeto-python/blob/main/Mod03Ex01_Python_basico_(1).ipynb\" target=\"_parent\"><img src=\"https://colab.research.google.com/assets/colab-badge.svg\" alt=\"Open In Colab\"/></a>"
      ]
    },
    {
      "cell_type": "markdown",
      "metadata": {
        "id": "SEE0vQsW83yB"
      },
      "source": [
        "### 01 - Teste de gravidez\n",
        "Escreva uma célula com controle de fluxos que tem como premissa a existência das seguintes variáveis:\n",
        "\n",
        "- ```sexo``` como ```str``` indicando os valores '**M**' para masculino e '**F**' para feminino  \n",
        "- ```beta_hcg``` que indica a quantidade do beta-HCG no sangue em mUI/mL.\n",
        "\n",
        "A sua tarefa é escrever um código que imprima como resultado \"indivíduo do sexo masculino\" quando sexo = 'M', caso sexo = 'F', se o valor de beta-HCG for maior que 5, retorne \"Positivo\" indicando que a paciente está grávida, e retorne \"Negativo\" caso contrário.\n",
        "\n",
        "Não mexa nos valores da variável ```sexo``` nem em ```beta_hcg```, e escreva um código que funcione para quaisquer valores possíveis de ambos: ```sexo``` = '**M**' ou '**F**' e ```beta_hcg``` assumindo valores inteiros positivos."
      ]
    },
    {
      "cell_type": "code",
      "execution_count": null,
      "metadata": {
        "id": "cTOc4LG683yE",
        "colab": {
          "base_uri": "https://localhost:8080/"
        },
        "outputId": "1dd110f8-e244-4834-ebed-28bb884b94bc"
      },
      "outputs": [
        {
          "output_type": "stream",
          "name": "stdout",
          "text": [
            "Negativo\n"
          ]
        }
      ],
      "source": [
        "sexo = 'M'\n",
        "beta_hcg = 0\n",
        "\n",
        "# seu código vem abaixo desta linha\n",
        "sexo = 'F'\n",
        "beta_hcg = 5\n",
        "\n",
        "if sexo == 'M':\n",
        "    print('indivíduo do sexo masculino')\n",
        "elif sexo == 'F':\n",
        "    if beta_hcg > 5:\n",
        "        print('Positivo')\n",
        "    else:\n",
        "        print('Negativo')\n"
      ]
    },
    {
      "cell_type": "markdown",
      "metadata": {
        "id": "uCoIZDE383yF"
      },
      "source": [
        "### 02 - Renomeando variáveis\n",
        "\n",
        "Vamos ver adiante que uma forma de renomear variáveis de um conjunto de dados é através de dicionários - o dicionário deve conter como chave o nome original, associando a cada chave um único valor (tipo *str*) que contenha o nome novo.\n",
        "\n",
        "A sua tarefa é escrever um dicionário que possa ser utilizado para traduzir as variáveis ```name``` (nome), ```age``` (idade) e ```income``` (renda). Ou seja, esse dicionário deve relacionar as chaves *name, age* e *income* às suas respectivas traduções."
      ]
    },
    {
      "cell_type": "code",
      "execution_count": null,
      "metadata": {
        "id": "Bh6ijpbu83yG",
        "outputId": "749abf1c-c208-4cab-a33b-6ea9ecb4d7cc",
        "colab": {
          "base_uri": "https://localhost:8080/"
        }
      },
      "outputs": [
        {
          "output_type": "execute_result",
          "data": {
            "text/plain": [
              "{'name': 'income'}"
            ]
          },
          "metadata": {},
          "execution_count": 2
        }
      ],
      "source": [
        "dic_renomeacao = {'name': 'income'}\n",
        "dic_renomeacao"
      ]
    },
    {
      "cell_type": "markdown",
      "metadata": {
        "id": "95zumO5g83yH"
      },
      "source": [
        "### 03 - É divisível?\n",
        "A sua tarefa é escrever um código que indique se um número ```N``` é divisível por um número P. Escreva um programa que faça essa verificação para quaisquer combinações de ```N``` e ```M``` e devolva uma mensagem indicativa no output."
      ]
    },
    {
      "cell_type": "code",
      "execution_count": null,
      "metadata": {
        "id": "BR2zOhmN83yI",
        "colab": {
          "base_uri": "https://localhost:8080/"
        },
        "outputId": "615a0c04-b7a6-4a23-c066-491d8300f803"
      },
      "outputs": [
        {
          "output_type": "stream",
          "name": "stdout",
          "text": [
            "42 é divisível por 7\n"
          ]
        }
      ],
      "source": [
        "N = 42\n",
        "M = 7\n",
        "\n",
        "#Seu código\n",
        "N = 42\n",
        "M = 7\n",
        "\n",
        "if N % M == 0:\n",
        "    print(f\"{N} é divisível por {M}\")\n",
        "else:\n",
        "    print(f\"{N} não é divisível por {M}\")"
      ]
    },
    {
      "cell_type": "markdown",
      "metadata": {
        "id": "0d5Kdrz283yJ"
      },
      "source": [
        "### 04 - Números primos\n",
        "> Um número **N** é primo se e somente se é divisível por 1, -1, por **N** e por -**N**.  \n",
        "\n",
        "Escreva um script que verifica se ```N``` é um número primo, verificando se ```N``` é divisível por todos os números de ```1``` a ```N-1```. Você vai precisar usar alguma ferramenta de *loop* que você aprendeu para isto. No final, devolva uma mensagem no output indicando se o número é primo ou não."
      ]
    },
    {
      "cell_type": "code",
      "execution_count": null,
      "metadata": {
        "id": "h_lFO-EO83yJ"
      },
      "outputs": [],
      "source": [
        "N = 47\n",
        "\n",
        "# seu código abaixo\n",
        "n = 47\n",
        "primo = True\n",
        "\n",
        "for i in range(2, n):\n",
        "    if n % i == 0:\n",
        "        primo = False\n",
        "        break"
      ]
    },
    {
      "cell_type": "markdown",
      "metadata": {
        "id": "zHwDnURO83yK"
      },
      "source": [
        "### 05 - Desafio\n",
        "O algorítmo do exercício anterior não é o mais eficiente. O que você pode fazer para deixá-lo mais eficiente? Ou seja, executar menos comparações, portanto consumir menos tempo.\n",
        "1. Será que precisamos correr o loop até o final sempre?\n",
        "2. Será que precisamos mesmo verificar **todos** os números?\n",
        "3. Será que precisamos ir até N-1?\n",
        "\n",
        "Essas perguntas levam ao tipo de pensamento voltado a deixar um algoritmo mais eficiente. Veja se você consegue melhorar o seu."
      ]
    },
    {
      "cell_type": "code",
      "execution_count": null,
      "metadata": {
        "id": "DDdwfZOL83yM"
      },
      "outputs": [],
      "source": [
        "N = 98\n",
        "\n",
        "# seu código aqui\n",
        "\n",
        "N = 98\n",
        "primo = True\n",
        "\n",
        "for i in range(2, int(N**0.5) + 1):\n",
        "    if N % i == 0:\n",
        "        primo = False\n",
        "        break"
      ]
    },
    {
      "cell_type": "markdown",
      "metadata": {
        "id": "4zhVSQan83yN"
      },
      "source": [
        "### 06 - Peso ideal 1\n",
        "O IMC (índice de massa corpórea) é um indicador de saúde mais bem aceito que o peso. Ele é calculado como:\n",
        "\n",
        "$$ IMC = \\dfrac{peso}{altura^2}$$\n",
        "\n",
        "Segundo a OMS, valores *normais* são entre 18.5 e 24.9.\n",
        "\n",
        "Sua tarefa é encontrar o ponto médio dessa faixa."
      ]
    },
    {
      "cell_type": "code",
      "execution_count": null,
      "metadata": {
        "id": "3DzxicN983yO",
        "outputId": "8c068deb-83ee-4592-b789-938922e5db11",
        "colab": {
          "base_uri": "https://localhost:8080/"
        }
      },
      "outputs": [
        {
          "output_type": "execute_result",
          "data": {
            "text/plain": [
              "21.7"
            ]
          },
          "metadata": {},
          "execution_count": 7
        }
      ],
      "source": [
        "imc_ideal = (18.5 + 24.9) / 2\n",
        "imc_ideal"
      ]
    },
    {
      "cell_type": "markdown",
      "metadata": {
        "id": "Z8uBOym483yP"
      },
      "source": [
        "### 07 - Peso ideal 2\n",
        "Recebendo um valor de altura, encontre o peso '*ideal*' dessa pessoa, que fornece o IMC encontrado acima"
      ]
    },
    {
      "cell_type": "code",
      "execution_count": null,
      "metadata": {
        "id": "rrNwycte83yP",
        "outputId": "0a6bb925-fba1-4de4-ccb9-fe9cba44cd4c",
        "colab": {
          "base_uri": "https://localhost:8080/"
        }
      },
      "outputs": [
        {
          "output_type": "execute_result",
          "data": {
            "text/plain": [
              "62.712999999999994"
            ]
          },
          "metadata": {},
          "execution_count": 8
        }
      ],
      "source": [
        "altura = 1.70\n",
        "\n",
        "# Seu código\n",
        "peso_ideal = imc_ideal * altura**2\n",
        "peso_ideal"
      ]
    },
    {
      "cell_type": "markdown",
      "metadata": {
        "id": "zEdM6J_i83yP"
      },
      "source": [
        "### 08 - Peso ideal 3\n",
        "Dada uma lista contendo as alturas de pacientes, crie uma nova lista que contenha o peso '*ideal*' (que fornece o IMC calculado em **Peso ideal 1**) desses pacientes."
      ]
    },
    {
      "cell_type": "code",
      "execution_count": null,
      "metadata": {
        "id": "KN1mB_My83yQ",
        "colab": {
          "base_uri": "https://localhost:8080/"
        },
        "outputId": "72439fb1-56cb-4966-ac88-a86ae7a3a201"
      },
      "outputs": [
        {
          "output_type": "execute_result",
          "data": {
            "text/plain": [
              "[3.8024999999999998, 4.2025, 2.8899999999999997, 2.7224999999999997]"
            ]
          },
          "metadata": {},
          "execution_count": 9
        }
      ],
      "source": [
        "lista_alturas = [1.95, 2.05, 1.70, 1.65]\n",
        "\n",
        "lista_peso_ideal = []\n",
        "\n",
        "# seu código\n",
        "\n",
        "lista_peso_ideal = [1.95, 2.05, 1.70, 1.65]\n",
        "lista_peso_ideal = [1.95 * 1.95, 2.05 * 2.05, 1.70 * 1.70, 1.65 * 1.65]\n",
        "lista_peso_ideal"
      ]
    },
    {
      "cell_type": "markdown",
      "metadata": {
        "id": "8OKAtYQM83yQ"
      },
      "source": [
        "### 09 - Peso ideal 4\n",
        "Dada uma lista de tuplas - cada elemento da lista é uma tupla contendo altura e peso de um paciente - crie uma nova lista com o IMC desses pacientes."
      ]
    },
    {
      "cell_type": "code",
      "execution_count": null,
      "metadata": {
        "id": "FaXgkjzI83yQ",
        "colab": {
          "base_uri": "https://localhost:8080/"
        },
        "outputId": "6d85081c-4d7f-4908-e5ca-e4688a5e75f6"
      },
      "outputs": [
        {
          "output_type": "stream",
          "name": "stdout",
          "text": [
            "[27.78, 27.55, 19.19]\n"
          ]
        }
      ],
      "source": [
        "altura_peso = [(1.80, 90), (1.65, 75), (1.91, 70)]\n",
        "\n",
        "imc = []\n",
        "\n",
        "# seu código\n",
        "\n",
        "for altura, peso in altura_peso:\n",
        "    imc_pessoa = round(peso / altura**2, 2)\n",
        "    imc.append(imc_pessoa)\n",
        "\n",
        "print(imc)\n",
        "\n",
        "\n"
      ]
    },
    {
      "cell_type": "markdown",
      "metadata": {
        "id": "kZdSJqJq83yR"
      },
      "source": [
        "### 10 - Peso ideal 5\n",
        "Dada uma lista de **listas** - cada elemento da lista é uma **lista** contendo altura e peso de um paciente, adicione mais um elemento à lista de cada paciente contendo o IMC do paciente. Verifique também se é 'baixo', 'normal' ou 'alto' segundo os padrões da OMS em que normal é entre 18.5 e 24.9.\n",
        "\n",
        "Reflexão: por que no problema anterior temos que criar uma nova lista, e não podemos adicionar os dados de cada indivíduo à tupla?"
      ]
    },
    {
      "cell_type": "code",
      "execution_count": null,
      "metadata": {
        "id": "EwszojP283yR",
        "colab": {
          "base_uri": "https://localhost:8080/"
        },
        "outputId": "859694c1-01b6-479b-de18-c6cee665968c"
      },
      "outputs": [
        {
          "output_type": "execute_result",
          "data": {
            "text/plain": [
              "[[1.8, 90, 27.777777777777775, 'alto'],\n",
              " [1.65, 75, 27.548209366391188, 'alto'],\n",
              " [1.91, 70, 19.188070502453332, 'normal']]"
            ]
          },
          "metadata": {},
          "execution_count": 14
        }
      ],
      "source": [
        "altura_peso = [[1.80, 90], [1.65, 75], [1.91, 70]]\n",
        "\n",
        "# seu código\n",
        "for paciente in altura_peso:\n",
        "    altura, peso = paciente\n",
        "    imc = peso / altura**2\n",
        "    paciente.append(imc)\n",
        "    if imc < 18.5:\n",
        "        paciente.append('baixo')\n",
        "    elif imc >= 18.5 and imc <= 24.9:\n",
        "        paciente.append('normal')\n",
        "    else:\n",
        "        paciente.append('alto')\n",
        "\n",
        "altura_peso"
      ]
    }
  ],
  "metadata": {
    "kernelspec": {
      "display_name": "Python 3",
      "language": "python",
      "name": "python3"
    },
    "language_info": {
      "codemirror_mode": {
        "name": "ipython",
        "version": 3
      },
      "file_extension": ".py",
      "mimetype": "text/x-python",
      "name": "python",
      "nbconvert_exporter": "python",
      "pygments_lexer": "ipython3",
      "version": "3.8.5"
    },
    "colab": {
      "provenance": [],
      "include_colab_link": true
    }
  },
  "nbformat": 4,
  "nbformat_minor": 0
}