{
  "cells": [
    {
      "cell_type": "markdown",
      "metadata": {
        "id": "view-in-github",
        "colab_type": "text"
      },
      "source": [
        "<a href=\"https://colab.research.google.com/github/Thiago24041985/projeto-python/blob/main/notebook79b6b0ce28.ipynb\" target=\"_parent\"><img src=\"https://colab.research.google.com/assets/colab-badge.svg\" alt=\"Open In Colab\"/></a>"
      ]
    },
    {
      "cell_type": "markdown",
      "id": "c20e8e26",
      "metadata": {
        "papermill": {
          "duration": 0.012822,
          "end_time": "2024-10-16T14:39:03.161859",
          "exception": false,
          "start_time": "2024-10-16T14:39:03.149037",
          "status": "completed"
        },
        "tags": [],
        "id": "c20e8e26"
      },
      "source": [
        "PROJETO FINAL DO MODOLO PYTHON DA EBAC EM CIÊNCIA DE DADOS\n",
        "\n",
        "Analise de comportamente de clientes para aumento do limite de credito¶"
      ]
    },
    {
      "cell_type": "markdown",
      "id": "8224c373",
      "metadata": {
        "papermill": {
          "duration": 0.013165,
          "end_time": "2024-10-16T14:39:03.188360",
          "exception": false,
          "start_time": "2024-10-16T14:39:03.175195",
          "status": "completed"
        },
        "tags": [],
        "id": "8224c373"
      },
      "source": [
        "importando as bbibliotecas\n"
      ]
    },
    {
      "cell_type": "code",
      "execution_count": null,
      "id": "5f17efeb",
      "metadata": {
        "execution": {
          "iopub.execute_input": "2024-10-16T14:39:03.215452Z",
          "iopub.status.busy": "2024-10-16T14:39:03.214216Z",
          "iopub.status.idle": "2024-10-16T14:39:05.918653Z",
          "shell.execute_reply": "2024-10-16T14:39:05.917257Z"
        },
        "papermill": {
          "duration": 2.721611,
          "end_time": "2024-10-16T14:39:05.922498",
          "exception": false,
          "start_time": "2024-10-16T14:39:03.200887",
          "status": "completed"
        },
        "tags": [],
        "id": "5f17efeb"
      },
      "outputs": [],
      "source": [
        "import pandas as pd\n",
        "import seaborn as sns\n",
        "import matplotlib.pyplot as plt\n",
        "sns.set_style(\"darkgrid\")\n",
        "\n",
        "import warnings\n",
        "warnings.filterwarnings('ignore')"
      ]
    },
    {
      "cell_type": "markdown",
      "id": "8abfec27",
      "metadata": {
        "papermill": {
          "duration": 0.012456,
          "end_time": "2024-10-16T14:39:05.946963",
          "exception": false,
          "start_time": "2024-10-16T14:39:05.934507",
          "status": "completed"
        },
        "tags": [],
        "id": "8abfec27"
      },
      "source": [
        "Este projeto tem por objetivo detectar padroes de comportamento que permitam o aumento do limite de creditos dos clientes adimplentes"
      ]
    },
    {
      "cell_type": "code",
      "execution_count": null,
      "id": "f66d35fb",
      "metadata": {
        "execution": {
          "iopub.execute_input": "2024-10-16T14:39:05.972670Z",
          "iopub.status.busy": "2024-10-16T14:39:05.971542Z",
          "iopub.status.idle": "2024-10-16T14:39:06.222487Z",
          "shell.execute_reply": "2024-10-16T14:39:06.221286Z"
        },
        "papermill": {
          "duration": 0.266363,
          "end_time": "2024-10-16T14:39:06.225051",
          "exception": false,
          "start_time": "2024-10-16T14:39:05.958688",
          "status": "completed"
        },
        "tags": [],
        "id": "f66d35fb"
      },
      "outputs": [],
      "source": [
        "df = pd.read_csv('https://raw.githubusercontent.com/andre-marcos-perez/ebac-course-utils/develop/dataset/credito.csv', na_values='na')\n"
      ]
    },
    {
      "cell_type": "code",
      "execution_count": null,
      "id": "debb950c",
      "metadata": {
        "execution": {
          "iopub.execute_input": "2024-10-16T14:39:06.250961Z",
          "iopub.status.busy": "2024-10-16T14:39:06.250275Z",
          "iopub.status.idle": "2024-10-16T14:39:06.276537Z",
          "shell.execute_reply": "2024-10-16T14:39:06.275518Z"
        },
        "papermill": {
          "duration": 0.042,
          "end_time": "2024-10-16T14:39:06.278805",
          "exception": false,
          "start_time": "2024-10-16T14:39:06.236805",
          "status": "completed"
        },
        "tags": [],
        "id": "debb950c",
        "outputId": "d2e0c0a8-bfde-4fb5-ff1c-2b8ce1fc1d0e"
      },
      "outputs": [
        {
          "data": {
            "text/html": [
              "<div>\n",
              "<style scoped>\n",
              "    .dataframe tbody tr th:only-of-type {\n",
              "        vertical-align: middle;\n",
              "    }\n",
              "\n",
              "    .dataframe tbody tr th {\n",
              "        vertical-align: top;\n",
              "    }\n",
              "\n",
              "    .dataframe thead th {\n",
              "        text-align: right;\n",
              "    }\n",
              "</style>\n",
              "<table border=\"1\" class=\"dataframe\">\n",
              "  <thead>\n",
              "    <tr style=\"text-align: right;\">\n",
              "      <th></th>\n",
              "      <th>id</th>\n",
              "      <th>default</th>\n",
              "      <th>idade</th>\n",
              "      <th>sexo</th>\n",
              "      <th>dependentes</th>\n",
              "      <th>escolaridade</th>\n",
              "      <th>estado_civil</th>\n",
              "      <th>salario_anual</th>\n",
              "      <th>tipo_cartao</th>\n",
              "      <th>meses_de_relacionamento</th>\n",
              "      <th>qtd_produtos</th>\n",
              "      <th>iteracoes_12m</th>\n",
              "      <th>meses_inativo_12m</th>\n",
              "      <th>limite_credito</th>\n",
              "      <th>valor_transacoes_12m</th>\n",
              "      <th>qtd_transacoes_12m</th>\n",
              "    </tr>\n",
              "  </thead>\n",
              "  <tbody>\n",
              "    <tr>\n",
              "      <th>0</th>\n",
              "      <td>768805383</td>\n",
              "      <td>0</td>\n",
              "      <td>45</td>\n",
              "      <td>M</td>\n",
              "      <td>3</td>\n",
              "      <td>ensino medio</td>\n",
              "      <td>casado</td>\n",
              "      <td>$60K - $80K</td>\n",
              "      <td>blue</td>\n",
              "      <td>39</td>\n",
              "      <td>5</td>\n",
              "      <td>3</td>\n",
              "      <td>1</td>\n",
              "      <td>12.691,51</td>\n",
              "      <td>1.144,90</td>\n",
              "      <td>42</td>\n",
              "    </tr>\n",
              "    <tr>\n",
              "      <th>1</th>\n",
              "      <td>818770008</td>\n",
              "      <td>0</td>\n",
              "      <td>49</td>\n",
              "      <td>F</td>\n",
              "      <td>5</td>\n",
              "      <td>mestrado</td>\n",
              "      <td>solteiro</td>\n",
              "      <td>menos que $40K</td>\n",
              "      <td>blue</td>\n",
              "      <td>44</td>\n",
              "      <td>6</td>\n",
              "      <td>2</td>\n",
              "      <td>1</td>\n",
              "      <td>8.256,96</td>\n",
              "      <td>1.291,45</td>\n",
              "      <td>33</td>\n",
              "    </tr>\n",
              "    <tr>\n",
              "      <th>2</th>\n",
              "      <td>713982108</td>\n",
              "      <td>0</td>\n",
              "      <td>51</td>\n",
              "      <td>M</td>\n",
              "      <td>3</td>\n",
              "      <td>mestrado</td>\n",
              "      <td>casado</td>\n",
              "      <td>$80K - $120K</td>\n",
              "      <td>blue</td>\n",
              "      <td>36</td>\n",
              "      <td>4</td>\n",
              "      <td>0</td>\n",
              "      <td>1</td>\n",
              "      <td>3.418,56</td>\n",
              "      <td>1.887,72</td>\n",
              "      <td>20</td>\n",
              "    </tr>\n",
              "    <tr>\n",
              "      <th>3</th>\n",
              "      <td>769911858</td>\n",
              "      <td>0</td>\n",
              "      <td>40</td>\n",
              "      <td>F</td>\n",
              "      <td>4</td>\n",
              "      <td>ensino medio</td>\n",
              "      <td>NaN</td>\n",
              "      <td>menos que $40K</td>\n",
              "      <td>blue</td>\n",
              "      <td>34</td>\n",
              "      <td>3</td>\n",
              "      <td>1</td>\n",
              "      <td>4</td>\n",
              "      <td>3.313,03</td>\n",
              "      <td>1.171,56</td>\n",
              "      <td>20</td>\n",
              "    </tr>\n",
              "    <tr>\n",
              "      <th>4</th>\n",
              "      <td>709106358</td>\n",
              "      <td>0</td>\n",
              "      <td>40</td>\n",
              "      <td>M</td>\n",
              "      <td>3</td>\n",
              "      <td>sem educacao formal</td>\n",
              "      <td>casado</td>\n",
              "      <td>$60K - $80K</td>\n",
              "      <td>blue</td>\n",
              "      <td>21</td>\n",
              "      <td>5</td>\n",
              "      <td>0</td>\n",
              "      <td>1</td>\n",
              "      <td>4.716,22</td>\n",
              "      <td>816,08</td>\n",
              "      <td>28</td>\n",
              "    </tr>\n",
              "    <tr>\n",
              "      <th>5</th>\n",
              "      <td>713061558</td>\n",
              "      <td>0</td>\n",
              "      <td>44</td>\n",
              "      <td>M</td>\n",
              "      <td>2</td>\n",
              "      <td>mestrado</td>\n",
              "      <td>casado</td>\n",
              "      <td>$40K - $60K</td>\n",
              "      <td>blue</td>\n",
              "      <td>36</td>\n",
              "      <td>3</td>\n",
              "      <td>2</td>\n",
              "      <td>1</td>\n",
              "      <td>4.010,69</td>\n",
              "      <td>1.088,07</td>\n",
              "      <td>24</td>\n",
              "    </tr>\n",
              "    <tr>\n",
              "      <th>6</th>\n",
              "      <td>810347208</td>\n",
              "      <td>0</td>\n",
              "      <td>51</td>\n",
              "      <td>M</td>\n",
              "      <td>4</td>\n",
              "      <td>NaN</td>\n",
              "      <td>casado</td>\n",
              "      <td>$120K +</td>\n",
              "      <td>gold</td>\n",
              "      <td>46</td>\n",
              "      <td>6</td>\n",
              "      <td>3</td>\n",
              "      <td>1</td>\n",
              "      <td>34.516,72</td>\n",
              "      <td>1.330,87</td>\n",
              "      <td>31</td>\n",
              "    </tr>\n",
              "    <tr>\n",
              "      <th>7</th>\n",
              "      <td>818906208</td>\n",
              "      <td>0</td>\n",
              "      <td>32</td>\n",
              "      <td>M</td>\n",
              "      <td>0</td>\n",
              "      <td>ensino medio</td>\n",
              "      <td>NaN</td>\n",
              "      <td>$60K - $80K</td>\n",
              "      <td>silver</td>\n",
              "      <td>27</td>\n",
              "      <td>2</td>\n",
              "      <td>2</td>\n",
              "      <td>2</td>\n",
              "      <td>29.081,49</td>\n",
              "      <td>1.538,32</td>\n",
              "      <td>36</td>\n",
              "    </tr>\n",
              "    <tr>\n",
              "      <th>8</th>\n",
              "      <td>710930508</td>\n",
              "      <td>0</td>\n",
              "      <td>37</td>\n",
              "      <td>M</td>\n",
              "      <td>3</td>\n",
              "      <td>sem educacao formal</td>\n",
              "      <td>solteiro</td>\n",
              "      <td>$60K - $80K</td>\n",
              "      <td>blue</td>\n",
              "      <td>36</td>\n",
              "      <td>5</td>\n",
              "      <td>0</td>\n",
              "      <td>2</td>\n",
              "      <td>22.352,50</td>\n",
              "      <td>1.350,14</td>\n",
              "      <td>24</td>\n",
              "    </tr>\n",
              "    <tr>\n",
              "      <th>9</th>\n",
              "      <td>719661558</td>\n",
              "      <td>0</td>\n",
              "      <td>48</td>\n",
              "      <td>M</td>\n",
              "      <td>2</td>\n",
              "      <td>mestrado</td>\n",
              "      <td>solteiro</td>\n",
              "      <td>$80K - $120K</td>\n",
              "      <td>blue</td>\n",
              "      <td>36</td>\n",
              "      <td>6</td>\n",
              "      <td>3</td>\n",
              "      <td>3</td>\n",
              "      <td>11.656,41</td>\n",
              "      <td>1.441,73</td>\n",
              "      <td>32</td>\n",
              "    </tr>\n",
              "  </tbody>\n",
              "</table>\n",
              "</div>"
            ],
            "text/plain": [
              "          id  default  idade sexo  dependentes         escolaridade  \\\n",
              "0  768805383        0     45    M            3         ensino medio   \n",
              "1  818770008        0     49    F            5             mestrado   \n",
              "2  713982108        0     51    M            3             mestrado   \n",
              "3  769911858        0     40    F            4         ensino medio   \n",
              "4  709106358        0     40    M            3  sem educacao formal   \n",
              "5  713061558        0     44    M            2             mestrado   \n",
              "6  810347208        0     51    M            4                  NaN   \n",
              "7  818906208        0     32    M            0         ensino medio   \n",
              "8  710930508        0     37    M            3  sem educacao formal   \n",
              "9  719661558        0     48    M            2             mestrado   \n",
              "\n",
              "  estado_civil   salario_anual tipo_cartao  meses_de_relacionamento  \\\n",
              "0       casado     $60K - $80K        blue                       39   \n",
              "1     solteiro  menos que $40K        blue                       44   \n",
              "2       casado    $80K - $120K        blue                       36   \n",
              "3          NaN  menos que $40K        blue                       34   \n",
              "4       casado     $60K - $80K        blue                       21   \n",
              "5       casado     $40K - $60K        blue                       36   \n",
              "6       casado         $120K +        gold                       46   \n",
              "7          NaN     $60K - $80K      silver                       27   \n",
              "8     solteiro     $60K - $80K        blue                       36   \n",
              "9     solteiro    $80K - $120K        blue                       36   \n",
              "\n",
              "   qtd_produtos  iteracoes_12m  meses_inativo_12m limite_credito  \\\n",
              "0             5              3                  1      12.691,51   \n",
              "1             6              2                  1       8.256,96   \n",
              "2             4              0                  1       3.418,56   \n",
              "3             3              1                  4       3.313,03   \n",
              "4             5              0                  1       4.716,22   \n",
              "5             3              2                  1       4.010,69   \n",
              "6             6              3                  1      34.516,72   \n",
              "7             2              2                  2      29.081,49   \n",
              "8             5              0                  2      22.352,50   \n",
              "9             6              3                  3      11.656,41   \n",
              "\n",
              "  valor_transacoes_12m  qtd_transacoes_12m  \n",
              "0             1.144,90                  42  \n",
              "1             1.291,45                  33  \n",
              "2             1.887,72                  20  \n",
              "3             1.171,56                  20  \n",
              "4               816,08                  28  \n",
              "5             1.088,07                  24  \n",
              "6             1.330,87                  31  \n",
              "7             1.538,32                  36  \n",
              "8             1.350,14                  24  \n",
              "9             1.441,73                  32  "
            ]
          },
          "execution_count": 3,
          "metadata": {},
          "output_type": "execute_result"
        }
      ],
      "source": [
        "df.head(10)\n"
      ]
    },
    {
      "cell_type": "markdown",
      "id": "170b57c7",
      "metadata": {
        "papermill": {
          "duration": 0.012224,
          "end_time": "2024-10-16T14:39:06.304042",
          "exception": false,
          "start_time": "2024-10-16T14:39:06.291818",
          "status": "completed"
        },
        "tags": [],
        "id": "170b57c7"
      },
      "source": [
        "Estrutura¶"
      ]
    },
    {
      "cell_type": "code",
      "execution_count": null,
      "id": "033cd1c4",
      "metadata": {
        "execution": {
          "iopub.execute_input": "2024-10-16T14:39:06.330169Z",
          "iopub.status.busy": "2024-10-16T14:39:06.329752Z",
          "iopub.status.idle": "2024-10-16T14:39:06.336734Z",
          "shell.execute_reply": "2024-10-16T14:39:06.335488Z"
        },
        "papermill": {
          "duration": 0.022872,
          "end_time": "2024-10-16T14:39:06.339056",
          "exception": false,
          "start_time": "2024-10-16T14:39:06.316184",
          "status": "completed"
        },
        "tags": [],
        "id": "033cd1c4",
        "outputId": "a894cae5-a116-4bd5-d124-88d48a56b399"
      },
      "outputs": [
        {
          "data": {
            "text/plain": [
              "(10127, 16)"
            ]
          },
          "execution_count": 4,
          "metadata": {},
          "output_type": "execute_result"
        }
      ],
      "source": [
        "df.shape #quantidade de linha e quantidade de colunas\n"
      ]
    },
    {
      "cell_type": "code",
      "execution_count": null,
      "id": "0a02f772",
      "metadata": {
        "execution": {
          "iopub.execute_input": "2024-10-16T14:39:06.365759Z",
          "iopub.status.busy": "2024-10-16T14:39:06.365283Z",
          "iopub.status.idle": "2024-10-16T14:39:06.377764Z",
          "shell.execute_reply": "2024-10-16T14:39:06.376745Z"
        },
        "papermill": {
          "duration": 0.0287,
          "end_time": "2024-10-16T14:39:06.380052",
          "exception": false,
          "start_time": "2024-10-16T14:39:06.351352",
          "status": "completed"
        },
        "tags": [],
        "id": "0a02f772",
        "outputId": "74125846-ff3b-441b-c287-8e55a2731651"
      },
      "outputs": [
        {
          "data": {
            "text/plain": [
              "(8500, 16)"
            ]
          },
          "execution_count": 5,
          "metadata": {},
          "output_type": "execute_result"
        }
      ],
      "source": [
        "df[df['default'] == 0].shape #quantidade de linha e quantidade de colunas de clientes adimplentes\n"
      ]
    },
    {
      "cell_type": "code",
      "execution_count": null,
      "id": "37c8fc07",
      "metadata": {
        "execution": {
          "iopub.execute_input": "2024-10-16T14:39:06.406722Z",
          "iopub.status.busy": "2024-10-16T14:39:06.406311Z",
          "iopub.status.idle": "2024-10-16T14:39:06.414779Z",
          "shell.execute_reply": "2024-10-16T14:39:06.413801Z"
        },
        "papermill": {
          "duration": 0.024223,
          "end_time": "2024-10-16T14:39:06.416964",
          "exception": false,
          "start_time": "2024-10-16T14:39:06.392741",
          "status": "completed"
        },
        "tags": [],
        "id": "37c8fc07",
        "outputId": "79c54821-3d1a-45c9-933a-a58b74e95416"
      },
      "outputs": [
        {
          "data": {
            "text/plain": [
              "(1627, 16)"
            ]
          },
          "execution_count": 6,
          "metadata": {},
          "output_type": "execute_result"
        }
      ],
      "source": [
        "df[df['default'] == 1].shape  #quantidade de linha e quantidade de colunas de clientes inadimplentes\n"
      ]
    },
    {
      "cell_type": "code",
      "execution_count": null,
      "id": "b90fd098",
      "metadata": {
        "execution": {
          "iopub.execute_input": "2024-10-16T14:39:06.444645Z",
          "iopub.status.busy": "2024-10-16T14:39:06.444177Z",
          "iopub.status.idle": "2024-10-16T14:39:06.453855Z",
          "shell.execute_reply": "2024-10-16T14:39:06.452790Z"
        },
        "papermill": {
          "duration": 0.026914,
          "end_time": "2024-10-16T14:39:06.456361",
          "exception": false,
          "start_time": "2024-10-16T14:39:06.429447",
          "status": "completed"
        },
        "tags": [],
        "id": "b90fd098"
      },
      "outputs": [],
      "source": [
        "qtd_total, _ = df.shape\n",
        "qtd_adimplentes, _ = df[df['default'] == 0].shape\n",
        "qtd_inadimplentes, _ = df[df['default'] == 1].shape\n"
      ]
    },
    {
      "cell_type": "code",
      "execution_count": null,
      "id": "1f4b3181",
      "metadata": {
        "execution": {
          "iopub.execute_input": "2024-10-16T14:39:06.484632Z",
          "iopub.status.busy": "2024-10-16T14:39:06.484208Z",
          "iopub.status.idle": "2024-10-16T14:39:06.491061Z",
          "shell.execute_reply": "2024-10-16T14:39:06.489568Z"
        },
        "papermill": {
          "duration": 0.024227,
          "end_time": "2024-10-16T14:39:06.493775",
          "exception": false,
          "start_time": "2024-10-16T14:39:06.469548",
          "status": "completed"
        },
        "tags": [],
        "id": "1f4b3181",
        "outputId": "c0a56c2c-3e34-4c8a-fcf9-875a1085a280"
      },
      "outputs": [
        {
          "name": "stdout",
          "output_type": "stream",
          "text": [
            "A proporcão clientes adimplentes é de 83.93%\n",
            "A proporcão clientes inadimplentes é de 16.07%\n"
          ]
        }
      ],
      "source": [
        "print(f\"A proporcão clientes adimplentes é de {round(100 * qtd_adimplentes / qtd_total, 2)}%\")\n",
        "print(f\"A proporcão clientes inadimplentes é de {round(100 * qtd_inadimplentes / qtd_total, 2)}%\")\n"
      ]
    },
    {
      "cell_type": "markdown",
      "id": "133a4a59",
      "metadata": {
        "papermill": {
          "duration": 0.012465,
          "end_time": "2024-10-16T14:39:06.519010",
          "exception": false,
          "start_time": "2024-10-16T14:39:06.506545",
          "status": "completed"
        },
        "tags": [],
        "id": "133a4a59"
      },
      "source": [
        "Schema¶"
      ]
    },
    {
      "cell_type": "code",
      "execution_count": null,
      "id": "1aa87934",
      "metadata": {
        "execution": {
          "iopub.execute_input": "2024-10-16T14:39:06.546687Z",
          "iopub.status.busy": "2024-10-16T14:39:06.546286Z",
          "iopub.status.idle": "2024-10-16T14:39:06.562574Z",
          "shell.execute_reply": "2024-10-16T14:39:06.561524Z"
        },
        "papermill": {
          "duration": 0.032789,
          "end_time": "2024-10-16T14:39:06.565145",
          "exception": false,
          "start_time": "2024-10-16T14:39:06.532356",
          "status": "completed"
        },
        "tags": [],
        "id": "1aa87934",
        "outputId": "30cc60b6-26dd-4ed2-c85d-4d7a8ea93544"
      },
      "outputs": [
        {
          "data": {
            "text/html": [
              "<div>\n",
              "<style scoped>\n",
              "    .dataframe tbody tr th:only-of-type {\n",
              "        vertical-align: middle;\n",
              "    }\n",
              "\n",
              "    .dataframe tbody tr th {\n",
              "        vertical-align: top;\n",
              "    }\n",
              "\n",
              "    .dataframe thead th {\n",
              "        text-align: right;\n",
              "    }\n",
              "</style>\n",
              "<table border=\"1\" class=\"dataframe\">\n",
              "  <thead>\n",
              "    <tr style=\"text-align: right;\">\n",
              "      <th></th>\n",
              "      <th>id</th>\n",
              "      <th>default</th>\n",
              "      <th>idade</th>\n",
              "      <th>sexo</th>\n",
              "      <th>dependentes</th>\n",
              "      <th>escolaridade</th>\n",
              "      <th>estado_civil</th>\n",
              "      <th>salario_anual</th>\n",
              "      <th>tipo_cartao</th>\n",
              "      <th>meses_de_relacionamento</th>\n",
              "      <th>qtd_produtos</th>\n",
              "      <th>iteracoes_12m</th>\n",
              "      <th>meses_inativo_12m</th>\n",
              "      <th>limite_credito</th>\n",
              "      <th>valor_transacoes_12m</th>\n",
              "      <th>qtd_transacoes_12m</th>\n",
              "    </tr>\n",
              "  </thead>\n",
              "  <tbody>\n",
              "    <tr>\n",
              "      <th>0</th>\n",
              "      <td>768805383</td>\n",
              "      <td>0</td>\n",
              "      <td>45</td>\n",
              "      <td>M</td>\n",
              "      <td>3</td>\n",
              "      <td>ensino medio</td>\n",
              "      <td>casado</td>\n",
              "      <td>$60K - $80K</td>\n",
              "      <td>blue</td>\n",
              "      <td>39</td>\n",
              "      <td>5</td>\n",
              "      <td>3</td>\n",
              "      <td>1</td>\n",
              "      <td>12.691,51</td>\n",
              "      <td>1.144,90</td>\n",
              "      <td>42</td>\n",
              "    </tr>\n",
              "    <tr>\n",
              "      <th>1</th>\n",
              "      <td>818770008</td>\n",
              "      <td>0</td>\n",
              "      <td>49</td>\n",
              "      <td>F</td>\n",
              "      <td>5</td>\n",
              "      <td>mestrado</td>\n",
              "      <td>solteiro</td>\n",
              "      <td>menos que $40K</td>\n",
              "      <td>blue</td>\n",
              "      <td>44</td>\n",
              "      <td>6</td>\n",
              "      <td>2</td>\n",
              "      <td>1</td>\n",
              "      <td>8.256,96</td>\n",
              "      <td>1.291,45</td>\n",
              "      <td>33</td>\n",
              "    </tr>\n",
              "    <tr>\n",
              "      <th>2</th>\n",
              "      <td>713982108</td>\n",
              "      <td>0</td>\n",
              "      <td>51</td>\n",
              "      <td>M</td>\n",
              "      <td>3</td>\n",
              "      <td>mestrado</td>\n",
              "      <td>casado</td>\n",
              "      <td>$80K - $120K</td>\n",
              "      <td>blue</td>\n",
              "      <td>36</td>\n",
              "      <td>4</td>\n",
              "      <td>0</td>\n",
              "      <td>1</td>\n",
              "      <td>3.418,56</td>\n",
              "      <td>1.887,72</td>\n",
              "      <td>20</td>\n",
              "    </tr>\n",
              "    <tr>\n",
              "      <th>3</th>\n",
              "      <td>769911858</td>\n",
              "      <td>0</td>\n",
              "      <td>40</td>\n",
              "      <td>F</td>\n",
              "      <td>4</td>\n",
              "      <td>ensino medio</td>\n",
              "      <td>NaN</td>\n",
              "      <td>menos que $40K</td>\n",
              "      <td>blue</td>\n",
              "      <td>34</td>\n",
              "      <td>3</td>\n",
              "      <td>1</td>\n",
              "      <td>4</td>\n",
              "      <td>3.313,03</td>\n",
              "      <td>1.171,56</td>\n",
              "      <td>20</td>\n",
              "    </tr>\n",
              "    <tr>\n",
              "      <th>4</th>\n",
              "      <td>709106358</td>\n",
              "      <td>0</td>\n",
              "      <td>40</td>\n",
              "      <td>M</td>\n",
              "      <td>3</td>\n",
              "      <td>sem educacao formal</td>\n",
              "      <td>casado</td>\n",
              "      <td>$60K - $80K</td>\n",
              "      <td>blue</td>\n",
              "      <td>21</td>\n",
              "      <td>5</td>\n",
              "      <td>0</td>\n",
              "      <td>1</td>\n",
              "      <td>4.716,22</td>\n",
              "      <td>816,08</td>\n",
              "      <td>28</td>\n",
              "    </tr>\n",
              "  </tbody>\n",
              "</table>\n",
              "</div>"
            ],
            "text/plain": [
              "          id  default  idade sexo  dependentes         escolaridade  \\\n",
              "0  768805383        0     45    M            3         ensino medio   \n",
              "1  818770008        0     49    F            5             mestrado   \n",
              "2  713982108        0     51    M            3             mestrado   \n",
              "3  769911858        0     40    F            4         ensino medio   \n",
              "4  709106358        0     40    M            3  sem educacao formal   \n",
              "\n",
              "  estado_civil   salario_anual tipo_cartao  meses_de_relacionamento  \\\n",
              "0       casado     $60K - $80K        blue                       39   \n",
              "1     solteiro  menos que $40K        blue                       44   \n",
              "2       casado    $80K - $120K        blue                       36   \n",
              "3          NaN  menos que $40K        blue                       34   \n",
              "4       casado     $60K - $80K        blue                       21   \n",
              "\n",
              "   qtd_produtos  iteracoes_12m  meses_inativo_12m limite_credito  \\\n",
              "0             5              3                  1      12.691,51   \n",
              "1             6              2                  1       8.256,96   \n",
              "2             4              0                  1       3.418,56   \n",
              "3             3              1                  4       3.313,03   \n",
              "4             5              0                  1       4.716,22   \n",
              "\n",
              "  valor_transacoes_12m  qtd_transacoes_12m  \n",
              "0             1.144,90                  42  \n",
              "1             1.291,45                  33  \n",
              "2             1.887,72                  20  \n",
              "3             1.171,56                  20  \n",
              "4               816,08                  28  "
            ]
          },
          "execution_count": 9,
          "metadata": {},
          "output_type": "execute_result"
        }
      ],
      "source": [
        "df.head(5)"
      ]
    },
    {
      "cell_type": "markdown",
      "id": "e95f8158",
      "metadata": {
        "papermill": {
          "duration": 0.012634,
          "end_time": "2024-10-16T14:39:06.590862",
          "exception": false,
          "start_time": "2024-10-16T14:39:06.578228",
          "status": "completed"
        },
        "tags": [],
        "id": "e95f8158"
      },
      "source": [
        "Colunas e tipos de dados"
      ]
    },
    {
      "cell_type": "code",
      "execution_count": null,
      "id": "0cfe4117",
      "metadata": {
        "execution": {
          "iopub.execute_input": "2024-10-16T14:39:06.618119Z",
          "iopub.status.busy": "2024-10-16T14:39:06.617742Z",
          "iopub.status.idle": "2024-10-16T14:39:06.626517Z",
          "shell.execute_reply": "2024-10-16T14:39:06.625437Z"
        },
        "papermill": {
          "duration": 0.025195,
          "end_time": "2024-10-16T14:39:06.628859",
          "exception": false,
          "start_time": "2024-10-16T14:39:06.603664",
          "status": "completed"
        },
        "tags": [],
        "id": "0cfe4117",
        "outputId": "f4826a5e-3a73-4748-82f6-1ce2c910dc54"
      },
      "outputs": [
        {
          "data": {
            "text/plain": [
              "id                          int64\n",
              "default                     int64\n",
              "idade                       int64\n",
              "sexo                       object\n",
              "dependentes                 int64\n",
              "escolaridade               object\n",
              "estado_civil               object\n",
              "salario_anual              object\n",
              "tipo_cartao                object\n",
              "meses_de_relacionamento     int64\n",
              "qtd_produtos                int64\n",
              "iteracoes_12m               int64\n",
              "meses_inativo_12m           int64\n",
              "limite_credito             object\n",
              "valor_transacoes_12m       object\n",
              "qtd_transacoes_12m          int64\n",
              "dtype: object"
            ]
          },
          "execution_count": 10,
          "metadata": {},
          "output_type": "execute_result"
        }
      ],
      "source": [
        "df.dtypes\n"
      ]
    },
    {
      "cell_type": "markdown",
      "id": "6a7833a1",
      "metadata": {
        "papermill": {
          "duration": 0.013199,
          "end_time": "2024-10-16T14:39:06.655873",
          "exception": false,
          "start_time": "2024-10-16T14:39:06.642674",
          "status": "completed"
        },
        "tags": [],
        "id": "6a7833a1"
      },
      "source": [
        "atributos categoricos"
      ]
    },
    {
      "cell_type": "code",
      "execution_count": null,
      "id": "f49a1d81",
      "metadata": {
        "execution": {
          "iopub.execute_input": "2024-10-16T14:39:06.684772Z",
          "iopub.status.busy": "2024-10-16T14:39:06.684355Z",
          "iopub.status.idle": "2024-10-16T14:39:06.730357Z",
          "shell.execute_reply": "2024-10-16T14:39:06.729231Z"
        },
        "papermill": {
          "duration": 0.063573,
          "end_time": "2024-10-16T14:39:06.732730",
          "exception": false,
          "start_time": "2024-10-16T14:39:06.669157",
          "status": "completed"
        },
        "tags": [],
        "id": "f49a1d81",
        "outputId": "7e8283cd-7b84-46b8-93ac-25094ea89248"
      },
      "outputs": [
        {
          "data": {
            "text/html": [
              "<div>\n",
              "<style scoped>\n",
              "    .dataframe tbody tr th:only-of-type {\n",
              "        vertical-align: middle;\n",
              "    }\n",
              "\n",
              "    .dataframe tbody tr th {\n",
              "        vertical-align: top;\n",
              "    }\n",
              "\n",
              "    .dataframe thead th {\n",
              "        text-align: right;\n",
              "    }\n",
              "</style>\n",
              "<table border=\"1\" class=\"dataframe\">\n",
              "  <thead>\n",
              "    <tr style=\"text-align: right;\">\n",
              "      <th></th>\n",
              "      <th>count</th>\n",
              "      <th>unique</th>\n",
              "      <th>top</th>\n",
              "      <th>freq</th>\n",
              "    </tr>\n",
              "  </thead>\n",
              "  <tbody>\n",
              "    <tr>\n",
              "      <th>sexo</th>\n",
              "      <td>10127</td>\n",
              "      <td>2</td>\n",
              "      <td>F</td>\n",
              "      <td>5358</td>\n",
              "    </tr>\n",
              "    <tr>\n",
              "      <th>escolaridade</th>\n",
              "      <td>8608</td>\n",
              "      <td>5</td>\n",
              "      <td>mestrado</td>\n",
              "      <td>3128</td>\n",
              "    </tr>\n",
              "    <tr>\n",
              "      <th>estado_civil</th>\n",
              "      <td>9378</td>\n",
              "      <td>3</td>\n",
              "      <td>casado</td>\n",
              "      <td>4687</td>\n",
              "    </tr>\n",
              "    <tr>\n",
              "      <th>salario_anual</th>\n",
              "      <td>9015</td>\n",
              "      <td>5</td>\n",
              "      <td>menos que $40K</td>\n",
              "      <td>3561</td>\n",
              "    </tr>\n",
              "    <tr>\n",
              "      <th>tipo_cartao</th>\n",
              "      <td>10127</td>\n",
              "      <td>4</td>\n",
              "      <td>blue</td>\n",
              "      <td>9436</td>\n",
              "    </tr>\n",
              "    <tr>\n",
              "      <th>limite_credito</th>\n",
              "      <td>10127</td>\n",
              "      <td>9272</td>\n",
              "      <td>1.438,21</td>\n",
              "      <td>11</td>\n",
              "    </tr>\n",
              "    <tr>\n",
              "      <th>valor_transacoes_12m</th>\n",
              "      <td>10127</td>\n",
              "      <td>10035</td>\n",
              "      <td>3.851,51</td>\n",
              "      <td>3</td>\n",
              "    </tr>\n",
              "  </tbody>\n",
              "</table>\n",
              "</div>"
            ],
            "text/plain": [
              "                      count unique             top  freq\n",
              "sexo                  10127      2               F  5358\n",
              "escolaridade           8608      5        mestrado  3128\n",
              "estado_civil           9378      3          casado  4687\n",
              "salario_anual          9015      5  menos que $40K  3561\n",
              "tipo_cartao           10127      4            blue  9436\n",
              "limite_credito        10127   9272        1.438,21    11\n",
              "valor_transacoes_12m  10127  10035        3.851,51     3"
            ]
          },
          "execution_count": 11,
          "metadata": {},
          "output_type": "execute_result"
        }
      ],
      "source": [
        "df.select_dtypes('object').describe().transpose()\n"
      ]
    },
    {
      "cell_type": "markdown",
      "id": "4238c4f9",
      "metadata": {
        "papermill": {
          "duration": 0.013624,
          "end_time": "2024-10-16T14:39:06.759568",
          "exception": false,
          "start_time": "2024-10-16T14:39:06.745944",
          "status": "completed"
        },
        "tags": [],
        "id": "4238c4f9"
      },
      "source": [
        "Atributos numericos"
      ]
    },
    {
      "cell_type": "code",
      "execution_count": null,
      "id": "d9ae0cc3",
      "metadata": {
        "execution": {
          "iopub.execute_input": "2024-10-16T14:39:06.789242Z",
          "iopub.status.busy": "2024-10-16T14:39:06.788300Z",
          "iopub.status.idle": "2024-10-16T14:39:06.831268Z",
          "shell.execute_reply": "2024-10-16T14:39:06.830162Z"
        },
        "papermill": {
          "duration": 0.060753,
          "end_time": "2024-10-16T14:39:06.833448",
          "exception": false,
          "start_time": "2024-10-16T14:39:06.772695",
          "status": "completed"
        },
        "tags": [],
        "id": "d9ae0cc3",
        "outputId": "3059a539-41f4-4f89-b811-afd13f77a600"
      },
      "outputs": [
        {
          "data": {
            "text/html": [
              "<div>\n",
              "<style scoped>\n",
              "    .dataframe tbody tr th:only-of-type {\n",
              "        vertical-align: middle;\n",
              "    }\n",
              "\n",
              "    .dataframe tbody tr th {\n",
              "        vertical-align: top;\n",
              "    }\n",
              "\n",
              "    .dataframe thead th {\n",
              "        text-align: right;\n",
              "    }\n",
              "</style>\n",
              "<table border=\"1\" class=\"dataframe\">\n",
              "  <thead>\n",
              "    <tr style=\"text-align: right;\">\n",
              "      <th></th>\n",
              "      <th>count</th>\n",
              "      <th>mean</th>\n",
              "      <th>std</th>\n",
              "      <th>min</th>\n",
              "      <th>25%</th>\n",
              "      <th>50%</th>\n",
              "      <th>75%</th>\n",
              "      <th>max</th>\n",
              "    </tr>\n",
              "  </thead>\n",
              "  <tbody>\n",
              "    <tr>\n",
              "      <th>default</th>\n",
              "      <td>10127.0</td>\n",
              "      <td>0.160660</td>\n",
              "      <td>0.367235</td>\n",
              "      <td>0.0</td>\n",
              "      <td>0.0</td>\n",
              "      <td>0.0</td>\n",
              "      <td>0.0</td>\n",
              "      <td>1.0</td>\n",
              "    </tr>\n",
              "    <tr>\n",
              "      <th>idade</th>\n",
              "      <td>10127.0</td>\n",
              "      <td>46.325960</td>\n",
              "      <td>8.016814</td>\n",
              "      <td>26.0</td>\n",
              "      <td>41.0</td>\n",
              "      <td>46.0</td>\n",
              "      <td>52.0</td>\n",
              "      <td>73.0</td>\n",
              "    </tr>\n",
              "    <tr>\n",
              "      <th>dependentes</th>\n",
              "      <td>10127.0</td>\n",
              "      <td>2.346203</td>\n",
              "      <td>1.298908</td>\n",
              "      <td>0.0</td>\n",
              "      <td>1.0</td>\n",
              "      <td>2.0</td>\n",
              "      <td>3.0</td>\n",
              "      <td>5.0</td>\n",
              "    </tr>\n",
              "    <tr>\n",
              "      <th>meses_de_relacionamento</th>\n",
              "      <td>10127.0</td>\n",
              "      <td>35.928409</td>\n",
              "      <td>7.986416</td>\n",
              "      <td>13.0</td>\n",
              "      <td>31.0</td>\n",
              "      <td>36.0</td>\n",
              "      <td>40.0</td>\n",
              "      <td>56.0</td>\n",
              "    </tr>\n",
              "    <tr>\n",
              "      <th>qtd_produtos</th>\n",
              "      <td>10127.0</td>\n",
              "      <td>3.812580</td>\n",
              "      <td>1.554408</td>\n",
              "      <td>1.0</td>\n",
              "      <td>3.0</td>\n",
              "      <td>4.0</td>\n",
              "      <td>5.0</td>\n",
              "      <td>6.0</td>\n",
              "    </tr>\n",
              "    <tr>\n",
              "      <th>iteracoes_12m</th>\n",
              "      <td>10127.0</td>\n",
              "      <td>2.455317</td>\n",
              "      <td>1.106225</td>\n",
              "      <td>0.0</td>\n",
              "      <td>2.0</td>\n",
              "      <td>2.0</td>\n",
              "      <td>3.0</td>\n",
              "      <td>6.0</td>\n",
              "    </tr>\n",
              "    <tr>\n",
              "      <th>meses_inativo_12m</th>\n",
              "      <td>10127.0</td>\n",
              "      <td>2.341167</td>\n",
              "      <td>1.010622</td>\n",
              "      <td>0.0</td>\n",
              "      <td>2.0</td>\n",
              "      <td>2.0</td>\n",
              "      <td>3.0</td>\n",
              "      <td>6.0</td>\n",
              "    </tr>\n",
              "    <tr>\n",
              "      <th>qtd_transacoes_12m</th>\n",
              "      <td>10127.0</td>\n",
              "      <td>64.858695</td>\n",
              "      <td>23.472570</td>\n",
              "      <td>10.0</td>\n",
              "      <td>45.0</td>\n",
              "      <td>67.0</td>\n",
              "      <td>81.0</td>\n",
              "      <td>139.0</td>\n",
              "    </tr>\n",
              "  </tbody>\n",
              "</table>\n",
              "</div>"
            ],
            "text/plain": [
              "                           count       mean        std   min   25%   50%  \\\n",
              "default                  10127.0   0.160660   0.367235   0.0   0.0   0.0   \n",
              "idade                    10127.0  46.325960   8.016814  26.0  41.0  46.0   \n",
              "dependentes              10127.0   2.346203   1.298908   0.0   1.0   2.0   \n",
              "meses_de_relacionamento  10127.0  35.928409   7.986416  13.0  31.0  36.0   \n",
              "qtd_produtos             10127.0   3.812580   1.554408   1.0   3.0   4.0   \n",
              "iteracoes_12m            10127.0   2.455317   1.106225   0.0   2.0   2.0   \n",
              "meses_inativo_12m        10127.0   2.341167   1.010622   0.0   2.0   2.0   \n",
              "qtd_transacoes_12m       10127.0  64.858695  23.472570  10.0  45.0  67.0   \n",
              "\n",
              "                          75%    max  \n",
              "default                   0.0    1.0  \n",
              "idade                    52.0   73.0  \n",
              "dependentes               3.0    5.0  \n",
              "meses_de_relacionamento  40.0   56.0  \n",
              "qtd_produtos              5.0    6.0  \n",
              "iteracoes_12m             3.0    6.0  \n",
              "meses_inativo_12m         3.0    6.0  \n",
              "qtd_transacoes_12m       81.0  139.0  "
            ]
          },
          "execution_count": 12,
          "metadata": {},
          "output_type": "execute_result"
        }
      ],
      "source": [
        "df.drop('id', axis=1).select_dtypes('number').describe().transpose()\n"
      ]
    },
    {
      "cell_type": "markdown",
      "id": "c3bd392a",
      "metadata": {
        "papermill": {
          "duration": 0.01318,
          "end_time": "2024-10-16T14:39:06.860019",
          "exception": false,
          "start_time": "2024-10-16T14:39:06.846839",
          "status": "completed"
        },
        "tags": [],
        "id": "c3bd392a"
      },
      "source": [
        "Dados faltantes¶\n"
      ]
    },
    {
      "cell_type": "code",
      "execution_count": null,
      "id": "897cda29",
      "metadata": {
        "execution": {
          "iopub.execute_input": "2024-10-16T14:39:06.888335Z",
          "iopub.status.busy": "2024-10-16T14:39:06.887923Z",
          "iopub.status.idle": "2024-10-16T14:39:06.904722Z",
          "shell.execute_reply": "2024-10-16T14:39:06.903420Z"
        },
        "papermill": {
          "duration": 0.033729,
          "end_time": "2024-10-16T14:39:06.906998",
          "exception": false,
          "start_time": "2024-10-16T14:39:06.873269",
          "status": "completed"
        },
        "tags": [],
        "id": "897cda29",
        "outputId": "fe40d015-5de3-4d30-e616-4fbcf6342b20"
      },
      "outputs": [
        {
          "data": {
            "text/html": [
              "<div>\n",
              "<style scoped>\n",
              "    .dataframe tbody tr th:only-of-type {\n",
              "        vertical-align: middle;\n",
              "    }\n",
              "\n",
              "    .dataframe tbody tr th {\n",
              "        vertical-align: top;\n",
              "    }\n",
              "\n",
              "    .dataframe thead th {\n",
              "        text-align: right;\n",
              "    }\n",
              "</style>\n",
              "<table border=\"1\" class=\"dataframe\">\n",
              "  <thead>\n",
              "    <tr style=\"text-align: right;\">\n",
              "      <th></th>\n",
              "      <th>id</th>\n",
              "      <th>default</th>\n",
              "      <th>idade</th>\n",
              "      <th>sexo</th>\n",
              "      <th>dependentes</th>\n",
              "      <th>escolaridade</th>\n",
              "      <th>estado_civil</th>\n",
              "      <th>salario_anual</th>\n",
              "      <th>tipo_cartao</th>\n",
              "      <th>meses_de_relacionamento</th>\n",
              "      <th>qtd_produtos</th>\n",
              "      <th>iteracoes_12m</th>\n",
              "      <th>meses_inativo_12m</th>\n",
              "      <th>limite_credito</th>\n",
              "      <th>valor_transacoes_12m</th>\n",
              "      <th>qtd_transacoes_12m</th>\n",
              "    </tr>\n",
              "  </thead>\n",
              "  <tbody>\n",
              "    <tr>\n",
              "      <th>0</th>\n",
              "      <td>768805383</td>\n",
              "      <td>0</td>\n",
              "      <td>45</td>\n",
              "      <td>M</td>\n",
              "      <td>3</td>\n",
              "      <td>ensino medio</td>\n",
              "      <td>casado</td>\n",
              "      <td>$60K - $80K</td>\n",
              "      <td>blue</td>\n",
              "      <td>39</td>\n",
              "      <td>5</td>\n",
              "      <td>3</td>\n",
              "      <td>1</td>\n",
              "      <td>12.691,51</td>\n",
              "      <td>1.144,90</td>\n",
              "      <td>42</td>\n",
              "    </tr>\n",
              "    <tr>\n",
              "      <th>1</th>\n",
              "      <td>818770008</td>\n",
              "      <td>0</td>\n",
              "      <td>49</td>\n",
              "      <td>F</td>\n",
              "      <td>5</td>\n",
              "      <td>mestrado</td>\n",
              "      <td>solteiro</td>\n",
              "      <td>menos que $40K</td>\n",
              "      <td>blue</td>\n",
              "      <td>44</td>\n",
              "      <td>6</td>\n",
              "      <td>2</td>\n",
              "      <td>1</td>\n",
              "      <td>8.256,96</td>\n",
              "      <td>1.291,45</td>\n",
              "      <td>33</td>\n",
              "    </tr>\n",
              "    <tr>\n",
              "      <th>2</th>\n",
              "      <td>713982108</td>\n",
              "      <td>0</td>\n",
              "      <td>51</td>\n",
              "      <td>M</td>\n",
              "      <td>3</td>\n",
              "      <td>mestrado</td>\n",
              "      <td>casado</td>\n",
              "      <td>$80K - $120K</td>\n",
              "      <td>blue</td>\n",
              "      <td>36</td>\n",
              "      <td>4</td>\n",
              "      <td>0</td>\n",
              "      <td>1</td>\n",
              "      <td>3.418,56</td>\n",
              "      <td>1.887,72</td>\n",
              "      <td>20</td>\n",
              "    </tr>\n",
              "    <tr>\n",
              "      <th>3</th>\n",
              "      <td>769911858</td>\n",
              "      <td>0</td>\n",
              "      <td>40</td>\n",
              "      <td>F</td>\n",
              "      <td>4</td>\n",
              "      <td>ensino medio</td>\n",
              "      <td>NaN</td>\n",
              "      <td>menos que $40K</td>\n",
              "      <td>blue</td>\n",
              "      <td>34</td>\n",
              "      <td>3</td>\n",
              "      <td>1</td>\n",
              "      <td>4</td>\n",
              "      <td>3.313,03</td>\n",
              "      <td>1.171,56</td>\n",
              "      <td>20</td>\n",
              "    </tr>\n",
              "    <tr>\n",
              "      <th>4</th>\n",
              "      <td>709106358</td>\n",
              "      <td>0</td>\n",
              "      <td>40</td>\n",
              "      <td>M</td>\n",
              "      <td>3</td>\n",
              "      <td>sem educacao formal</td>\n",
              "      <td>casado</td>\n",
              "      <td>$60K - $80K</td>\n",
              "      <td>blue</td>\n",
              "      <td>21</td>\n",
              "      <td>5</td>\n",
              "      <td>0</td>\n",
              "      <td>1</td>\n",
              "      <td>4.716,22</td>\n",
              "      <td>816,08</td>\n",
              "      <td>28</td>\n",
              "    </tr>\n",
              "  </tbody>\n",
              "</table>\n",
              "</div>"
            ],
            "text/plain": [
              "          id  default  idade sexo  dependentes         escolaridade  \\\n",
              "0  768805383        0     45    M            3         ensino medio   \n",
              "1  818770008        0     49    F            5             mestrado   \n",
              "2  713982108        0     51    M            3             mestrado   \n",
              "3  769911858        0     40    F            4         ensino medio   \n",
              "4  709106358        0     40    M            3  sem educacao formal   \n",
              "\n",
              "  estado_civil   salario_anual tipo_cartao  meses_de_relacionamento  \\\n",
              "0       casado     $60K - $80K        blue                       39   \n",
              "1     solteiro  menos que $40K        blue                       44   \n",
              "2       casado    $80K - $120K        blue                       36   \n",
              "3          NaN  menos que $40K        blue                       34   \n",
              "4       casado     $60K - $80K        blue                       21   \n",
              "\n",
              "   qtd_produtos  iteracoes_12m  meses_inativo_12m limite_credito  \\\n",
              "0             5              3                  1      12.691,51   \n",
              "1             6              2                  1       8.256,96   \n",
              "2             4              0                  1       3.418,56   \n",
              "3             3              1                  4       3.313,03   \n",
              "4             5              0                  1       4.716,22   \n",
              "\n",
              "  valor_transacoes_12m  qtd_transacoes_12m  \n",
              "0             1.144,90                  42  \n",
              "1             1.291,45                  33  \n",
              "2             1.887,72                  20  \n",
              "3             1.171,56                  20  \n",
              "4               816,08                  28  "
            ]
          },
          "execution_count": 13,
          "metadata": {},
          "output_type": "execute_result"
        }
      ],
      "source": [
        "df.head()"
      ]
    },
    {
      "cell_type": "markdown",
      "id": "04908714",
      "metadata": {
        "papermill": {
          "duration": 0.013459,
          "end_time": "2024-10-16T14:39:06.934627",
          "exception": false,
          "start_time": "2024-10-16T14:39:06.921168",
          "status": "completed"
        },
        "tags": [],
        "id": "04908714"
      },
      "source": [
        "\n",
        "Verificando quais colunas possuem dados faltantes\n"
      ]
    },
    {
      "cell_type": "code",
      "execution_count": null,
      "id": "02c259c5",
      "metadata": {
        "execution": {
          "iopub.execute_input": "2024-10-16T14:39:06.963504Z",
          "iopub.status.busy": "2024-10-16T14:39:06.963054Z",
          "iopub.status.idle": "2024-10-16T14:39:06.975846Z",
          "shell.execute_reply": "2024-10-16T14:39:06.974750Z"
        },
        "papermill": {
          "duration": 0.029926,
          "end_time": "2024-10-16T14:39:06.978145",
          "exception": false,
          "start_time": "2024-10-16T14:39:06.948219",
          "status": "completed"
        },
        "tags": [],
        "id": "02c259c5",
        "outputId": "22f86485-3299-4678-ba55-b7a20c08afbb"
      },
      "outputs": [
        {
          "data": {
            "text/plain": [
              "id                         False\n",
              "default                    False\n",
              "idade                      False\n",
              "sexo                       False\n",
              "dependentes                False\n",
              "escolaridade                True\n",
              "estado_civil                True\n",
              "salario_anual               True\n",
              "tipo_cartao                False\n",
              "meses_de_relacionamento    False\n",
              "qtd_produtos               False\n",
              "iteracoes_12m              False\n",
              "meses_inativo_12m          False\n",
              "limite_credito             False\n",
              "valor_transacoes_12m       False\n",
              "qtd_transacoes_12m         False\n",
              "dtype: bool"
            ]
          },
          "execution_count": 14,
          "metadata": {},
          "output_type": "execute_result"
        }
      ],
      "source": [
        "df.isna().any()"
      ]
    },
    {
      "cell_type": "markdown",
      "id": "b1357c42",
      "metadata": {
        "papermill": {
          "duration": 0.013566,
          "end_time": "2024-10-16T14:39:07.005813",
          "exception": false,
          "start_time": "2024-10-16T14:39:06.992247",
          "status": "completed"
        },
        "tags": [],
        "id": "b1357c42"
      },
      "source": [
        "Estatisticas sobre os dados faltantes"
      ]
    },
    {
      "cell_type": "code",
      "execution_count": null,
      "id": "d05ec726",
      "metadata": {
        "execution": {
          "iopub.execute_input": "2024-10-16T14:39:07.035142Z",
          "iopub.status.busy": "2024-10-16T14:39:07.034726Z",
          "iopub.status.idle": "2024-10-16T14:39:07.041691Z",
          "shell.execute_reply": "2024-10-16T14:39:07.040641Z"
        },
        "papermill": {
          "duration": 0.024148,
          "end_time": "2024-10-16T14:39:07.043862",
          "exception": false,
          "start_time": "2024-10-16T14:39:07.019714",
          "status": "completed"
        },
        "tags": [],
        "id": "d05ec726"
      },
      "outputs": [],
      "source": [
        "def dados_faltantes(df: pd.DataFrame) -> None:\n",
        "\n",
        "   dados_faltantes = []\n",
        "   for col in df.columns:\n",
        "     if df[col].isna().any():\n",
        "      qtd, _ = df[df[col].isna()].shape\n",
        "      total, _ = df.shape\n",
        "      dict_dados_faltantes = {col: {'quantidade': qtd, \"porcentagem\": round(100 * qtd/total, 2)}}\n",
        "      dados_faltantes.append(dict_dados_faltantes)\n",
        "\n",
        "   for stat in dados_faltantes:\n",
        "    print(stat)\n"
      ]
    },
    {
      "cell_type": "code",
      "execution_count": null,
      "id": "a166afe0",
      "metadata": {
        "execution": {
          "iopub.execute_input": "2024-10-16T14:39:07.072967Z",
          "iopub.status.busy": "2024-10-16T14:39:07.072545Z",
          "iopub.status.idle": "2024-10-16T14:39:07.089951Z",
          "shell.execute_reply": "2024-10-16T14:39:07.088730Z"
        },
        "papermill": {
          "duration": 0.034566,
          "end_time": "2024-10-16T14:39:07.092155",
          "exception": false,
          "start_time": "2024-10-16T14:39:07.057589",
          "status": "completed"
        },
        "tags": [],
        "id": "a166afe0",
        "outputId": "933ec42f-cadb-4fbc-9fd2-a91e879dad80"
      },
      "outputs": [
        {
          "name": "stdout",
          "output_type": "stream",
          "text": [
            "{'escolaridade': {'quantidade': 1519, 'porcentagem': 15.0}}\n",
            "{'estado_civil': {'quantidade': 749, 'porcentagem': 7.4}}\n",
            "{'salario_anual': {'quantidade': 1112, 'porcentagem': 10.98}}\n"
          ]
        }
      ],
      "source": [
        "dados_faltantes(df=df)\n"
      ]
    },
    {
      "cell_type": "code",
      "execution_count": null,
      "id": "5ee58547",
      "metadata": {
        "execution": {
          "iopub.execute_input": "2024-10-16T14:39:07.121812Z",
          "iopub.status.busy": "2024-10-16T14:39:07.121389Z",
          "iopub.status.idle": "2024-10-16T14:39:07.138871Z",
          "shell.execute_reply": "2024-10-16T14:39:07.137339Z"
        },
        "papermill": {
          "duration": 0.035051,
          "end_time": "2024-10-16T14:39:07.141293",
          "exception": false,
          "start_time": "2024-10-16T14:39:07.106242",
          "status": "completed"
        },
        "tags": [],
        "id": "5ee58547",
        "outputId": "b3560a72-0686-40c0-b9e9-a3b81c2450ca"
      },
      "outputs": [
        {
          "name": "stdout",
          "output_type": "stream",
          "text": [
            "{'escolaridade': {'quantidade': 1263, 'porcentagem': 14.86}}\n",
            "{'estado_civil': {'quantidade': 620, 'porcentagem': 7.29}}\n",
            "{'salario_anual': {'quantidade': 925, 'porcentagem': 10.88}}\n"
          ]
        }
      ],
      "source": [
        "dados_faltantes(df=df[df['default'] == 0]) #adimplentes"
      ]
    },
    {
      "cell_type": "code",
      "execution_count": null,
      "id": "8331a913",
      "metadata": {
        "execution": {
          "iopub.execute_input": "2024-10-16T14:39:07.171793Z",
          "iopub.status.busy": "2024-10-16T14:39:07.171362Z",
          "iopub.status.idle": "2024-10-16T14:39:07.184502Z",
          "shell.execute_reply": "2024-10-16T14:39:07.182997Z"
        },
        "papermill": {
          "duration": 0.030826,
          "end_time": "2024-10-16T14:39:07.186728",
          "exception": false,
          "start_time": "2024-10-16T14:39:07.155902",
          "status": "completed"
        },
        "tags": [],
        "id": "8331a913",
        "outputId": "7c245162-f1fc-488a-d7bf-7d2f24753691"
      },
      "outputs": [
        {
          "name": "stdout",
          "output_type": "stream",
          "text": [
            "{'escolaridade': {'quantidade': 256, 'porcentagem': 15.73}}\n",
            "{'estado_civil': {'quantidade': 129, 'porcentagem': 7.93}}\n",
            "{'salario_anual': {'quantidade': 187, 'porcentagem': 11.49}}\n"
          ]
        }
      ],
      "source": [
        "dados_faltantes(df=df[df['default'] == 1]) #inadimplentes\n"
      ]
    },
    {
      "cell_type": "markdown",
      "id": "e64d150c",
      "metadata": {
        "papermill": {
          "duration": 0.013632,
          "end_time": "2024-10-16T14:39:07.214348",
          "exception": false,
          "start_time": "2024-10-16T14:39:07.200716",
          "status": "completed"
        },
        "tags": [],
        "id": "e64d150c"
      },
      "source": [
        "Limpeza do dados e correção do schema¶"
      ]
    },
    {
      "cell_type": "code",
      "execution_count": null,
      "id": "1f446d48",
      "metadata": {
        "execution": {
          "iopub.execute_input": "2024-10-16T14:39:07.247584Z",
          "iopub.status.busy": "2024-10-16T14:39:07.246195Z",
          "iopub.status.idle": "2024-10-16T14:39:07.256556Z",
          "shell.execute_reply": "2024-10-16T14:39:07.255389Z"
        },
        "papermill": {
          "duration": 0.029178,
          "end_time": "2024-10-16T14:39:07.258993",
          "exception": false,
          "start_time": "2024-10-16T14:39:07.229815",
          "status": "completed"
        },
        "tags": [],
        "id": "1f446d48",
        "outputId": "c76a4612-c659-42bc-e08f-36700d1df51d"
      },
      "outputs": [
        {
          "data": {
            "text/plain": [
              "limite_credito          object\n",
              "valor_transacoes_12m    object\n",
              "dtype: object"
            ]
          },
          "execution_count": 19,
          "metadata": {},
          "output_type": "execute_result"
        }
      ],
      "source": [
        "df[['limite_credito', 'valor_transacoes_12m']].dtypes\n"
      ]
    },
    {
      "cell_type": "code",
      "execution_count": null,
      "id": "986fd55f",
      "metadata": {
        "execution": {
          "iopub.execute_input": "2024-10-16T14:39:07.290153Z",
          "iopub.status.busy": "2024-10-16T14:39:07.289364Z",
          "iopub.status.idle": "2024-10-16T14:39:07.301737Z",
          "shell.execute_reply": "2024-10-16T14:39:07.300662Z"
        },
        "papermill": {
          "duration": 0.030599,
          "end_time": "2024-10-16T14:39:07.304058",
          "exception": false,
          "start_time": "2024-10-16T14:39:07.273459",
          "status": "completed"
        },
        "tags": [],
        "id": "986fd55f",
        "outputId": "ac4aa780-5ab5-4afa-ac55-158bdc73f625"
      },
      "outputs": [
        {
          "data": {
            "text/html": [
              "<div>\n",
              "<style scoped>\n",
              "    .dataframe tbody tr th:only-of-type {\n",
              "        vertical-align: middle;\n",
              "    }\n",
              "\n",
              "    .dataframe tbody tr th {\n",
              "        vertical-align: top;\n",
              "    }\n",
              "\n",
              "    .dataframe thead th {\n",
              "        text-align: right;\n",
              "    }\n",
              "</style>\n",
              "<table border=\"1\" class=\"dataframe\">\n",
              "  <thead>\n",
              "    <tr style=\"text-align: right;\">\n",
              "      <th></th>\n",
              "      <th>limite_credito</th>\n",
              "      <th>valor_transacoes_12m</th>\n",
              "    </tr>\n",
              "  </thead>\n",
              "  <tbody>\n",
              "    <tr>\n",
              "      <th>0</th>\n",
              "      <td>12.691,51</td>\n",
              "      <td>1.144,90</td>\n",
              "    </tr>\n",
              "    <tr>\n",
              "      <th>1</th>\n",
              "      <td>8.256,96</td>\n",
              "      <td>1.291,45</td>\n",
              "    </tr>\n",
              "    <tr>\n",
              "      <th>2</th>\n",
              "      <td>3.418,56</td>\n",
              "      <td>1.887,72</td>\n",
              "    </tr>\n",
              "    <tr>\n",
              "      <th>3</th>\n",
              "      <td>3.313,03</td>\n",
              "      <td>1.171,56</td>\n",
              "    </tr>\n",
              "    <tr>\n",
              "      <th>4</th>\n",
              "      <td>4.716,22</td>\n",
              "      <td>816,08</td>\n",
              "    </tr>\n",
              "  </tbody>\n",
              "</table>\n",
              "</div>"
            ],
            "text/plain": [
              "  limite_credito valor_transacoes_12m\n",
              "0      12.691,51             1.144,90\n",
              "1       8.256,96             1.291,45\n",
              "2       3.418,56             1.887,72\n",
              "3       3.313,03             1.171,56\n",
              "4       4.716,22               816,08"
            ]
          },
          "execution_count": 20,
          "metadata": {},
          "output_type": "execute_result"
        }
      ],
      "source": [
        "df[['limite_credito', 'valor_transacoes_12m']].head(5)\n"
      ]
    },
    {
      "cell_type": "markdown",
      "id": "6ca1c849",
      "metadata": {
        "papermill": {
          "duration": 0.014193,
          "end_time": "2024-10-16T14:39:07.332740",
          "exception": false,
          "start_time": "2024-10-16T14:39:07.318547",
          "status": "completed"
        },
        "tags": [],
        "id": "6ca1c849"
      },
      "source": [
        "funçao lambda para limpar os dados\n"
      ]
    },
    {
      "cell_type": "code",
      "execution_count": null,
      "id": "76a742dc",
      "metadata": {
        "execution": {
          "iopub.execute_input": "2024-10-16T14:39:07.363410Z",
          "iopub.status.busy": "2024-10-16T14:39:07.363018Z",
          "iopub.status.idle": "2024-10-16T14:39:07.370640Z",
          "shell.execute_reply": "2024-10-16T14:39:07.369553Z"
        },
        "papermill": {
          "duration": 0.025699,
          "end_time": "2024-10-16T14:39:07.372956",
          "exception": false,
          "start_time": "2024-10-16T14:39:07.347257",
          "status": "completed"
        },
        "tags": [],
        "id": "76a742dc",
        "outputId": "6b054082-4e8b-4e91-df31-5260475b4456"
      },
      "outputs": [
        {
          "name": "stdout",
          "output_type": "stream",
          "text": [
            "['12.691,51', '8.256,96', '3.418,56', '3.313,03', '4.716,22']\n",
            "[12691.51, 8256.96, 3418.56, 3313.03, 4716.22]\n"
          ]
        }
      ],
      "source": [
        "fn = lambda valor: float(valor.replace(\".\", \"\").replace(\",\", \".\"))\n",
        "valores_originais = ['12.691,51','8.256,96','3.418,56','3.313,03','4.716,22']\n",
        "valores_limpos = list(map(fn,valores_originais))\n",
        "\n",
        "print(valores_originais)\n",
        "print(valores_limpos)"
      ]
    },
    {
      "cell_type": "markdown",
      "id": "c3c88272",
      "metadata": {
        "papermill": {
          "duration": 0.014352,
          "end_time": "2024-10-16T14:39:07.403126",
          "exception": false,
          "start_time": "2024-10-16T14:39:07.388774",
          "status": "completed"
        },
        "tags": [],
        "id": "c3c88272"
      },
      "source": [
        "correção do schema"
      ]
    },
    {
      "cell_type": "code",
      "execution_count": null,
      "id": "c28aa84d",
      "metadata": {
        "execution": {
          "iopub.execute_input": "2024-10-16T14:39:07.434456Z",
          "iopub.status.busy": "2024-10-16T14:39:07.434030Z",
          "iopub.status.idle": "2024-10-16T14:39:07.454062Z",
          "shell.execute_reply": "2024-10-16T14:39:07.452632Z"
        },
        "papermill": {
          "duration": 0.038816,
          "end_time": "2024-10-16T14:39:07.456653",
          "exception": false,
          "start_time": "2024-10-16T14:39:07.417837",
          "status": "completed"
        },
        "tags": [],
        "id": "c28aa84d"
      },
      "outputs": [],
      "source": [
        "df['valor_transacoes_12m']=df['valor_transacoes_12m'].apply(fn)\n",
        "df['limite_credito']=df['limite_credito'].apply(fn)"
      ]
    },
    {
      "cell_type": "code",
      "execution_count": null,
      "id": "dfc90d8e",
      "metadata": {
        "execution": {
          "iopub.execute_input": "2024-10-16T14:39:07.489228Z",
          "iopub.status.busy": "2024-10-16T14:39:07.488814Z",
          "iopub.status.idle": "2024-10-16T14:39:07.499151Z",
          "shell.execute_reply": "2024-10-16T14:39:07.497584Z"
        },
        "papermill": {
          "duration": 0.029882,
          "end_time": "2024-10-16T14:39:07.501597",
          "exception": false,
          "start_time": "2024-10-16T14:39:07.471715",
          "status": "completed"
        },
        "tags": [],
        "id": "dfc90d8e",
        "outputId": "97a45bb6-6384-4ebd-8181-413b999546be"
      },
      "outputs": [
        {
          "data": {
            "text/plain": [
              "id                           int64\n",
              "default                      int64\n",
              "idade                        int64\n",
              "sexo                        object\n",
              "dependentes                  int64\n",
              "escolaridade                object\n",
              "estado_civil                object\n",
              "salario_anual               object\n",
              "tipo_cartao                 object\n",
              "meses_de_relacionamento      int64\n",
              "qtd_produtos                 int64\n",
              "iteracoes_12m                int64\n",
              "meses_inativo_12m            int64\n",
              "limite_credito             float64\n",
              "valor_transacoes_12m       float64\n",
              "qtd_transacoes_12m           int64\n",
              "dtype: object"
            ]
          },
          "execution_count": 23,
          "metadata": {},
          "output_type": "execute_result"
        }
      ],
      "source": [
        "df.dtypes"
      ]
    },
    {
      "cell_type": "markdown",
      "id": "2e8f3716",
      "metadata": {
        "papermill": {
          "duration": 0.014663,
          "end_time": "2024-10-16T14:39:07.531541",
          "exception": false,
          "start_time": "2024-10-16T14:39:07.516878",
          "status": "completed"
        },
        "tags": [],
        "id": "2e8f3716"
      },
      "source": [
        "Remoção dos dados faltantes¶"
      ]
    },
    {
      "cell_type": "code",
      "execution_count": null,
      "id": "4ffe633c",
      "metadata": {
        "execution": {
          "iopub.execute_input": "2024-10-16T14:39:07.563901Z",
          "iopub.status.busy": "2024-10-16T14:39:07.563449Z",
          "iopub.status.idle": "2024-10-16T14:39:07.574443Z",
          "shell.execute_reply": "2024-10-16T14:39:07.573237Z"
        },
        "papermill": {
          "duration": 0.031031,
          "end_time": "2024-10-16T14:39:07.577834",
          "exception": false,
          "start_time": "2024-10-16T14:39:07.546803",
          "status": "completed"
        },
        "tags": [],
        "id": "4ffe633c"
      },
      "outputs": [],
      "source": [
        "df.dropna(inplace=True)\n"
      ]
    },
    {
      "cell_type": "markdown",
      "id": "a47d063b",
      "metadata": {
        "papermill": {
          "duration": 0.014944,
          "end_time": "2024-10-16T14:39:07.607459",
          "exception": false,
          "start_time": "2024-10-16T14:39:07.592515",
          "status": "completed"
        },
        "tags": [],
        "id": "a47d063b"
      },
      "source": [
        "analisando a estrutura novamente"
      ]
    },
    {
      "cell_type": "code",
      "execution_count": null,
      "id": "b31e503f",
      "metadata": {
        "execution": {
          "iopub.execute_input": "2024-10-16T14:39:07.639799Z",
          "iopub.status.busy": "2024-10-16T14:39:07.639361Z",
          "iopub.status.idle": "2024-10-16T14:39:07.646903Z",
          "shell.execute_reply": "2024-10-16T14:39:07.645359Z"
        },
        "papermill": {
          "duration": 0.026444,
          "end_time": "2024-10-16T14:39:07.649496",
          "exception": false,
          "start_time": "2024-10-16T14:39:07.623052",
          "status": "completed"
        },
        "tags": [],
        "id": "b31e503f",
        "outputId": "02cad228-0fba-4a45-e190-36f718994b05"
      },
      "outputs": [
        {
          "data": {
            "text/plain": [
              "(7081, 16)"
            ]
          },
          "execution_count": 25,
          "metadata": {},
          "output_type": "execute_result"
        }
      ],
      "source": [
        "df.shape"
      ]
    },
    {
      "cell_type": "code",
      "execution_count": null,
      "id": "9bb9f186",
      "metadata": {
        "execution": {
          "iopub.execute_input": "2024-10-16T14:39:07.682219Z",
          "iopub.status.busy": "2024-10-16T14:39:07.681834Z",
          "iopub.status.idle": "2024-10-16T14:39:07.691691Z",
          "shell.execute_reply": "2024-10-16T14:39:07.690149Z"
        },
        "papermill": {
          "duration": 0.029133,
          "end_time": "2024-10-16T14:39:07.694011",
          "exception": false,
          "start_time": "2024-10-16T14:39:07.664878",
          "status": "completed"
        },
        "tags": [],
        "id": "9bb9f186",
        "outputId": "369161f6-9fed-4c79-c4f5-a429638bf143"
      },
      "outputs": [
        {
          "data": {
            "text/plain": [
              "(5968, 16)"
            ]
          },
          "execution_count": 26,
          "metadata": {},
          "output_type": "execute_result"
        }
      ],
      "source": [
        "df[df['default'] == 0 ].shape #adimplentes\n"
      ]
    },
    {
      "cell_type": "code",
      "execution_count": null,
      "id": "bf2cbd23",
      "metadata": {
        "execution": {
          "iopub.execute_input": "2024-10-16T14:39:07.725491Z",
          "iopub.status.busy": "2024-10-16T14:39:07.725084Z",
          "iopub.status.idle": "2024-10-16T14:39:07.734756Z",
          "shell.execute_reply": "2024-10-16T14:39:07.733496Z"
        },
        "papermill": {
          "duration": 0.028282,
          "end_time": "2024-10-16T14:39:07.737169",
          "exception": false,
          "start_time": "2024-10-16T14:39:07.708887",
          "status": "completed"
        },
        "tags": [],
        "id": "bf2cbd23",
        "outputId": "b452c979-1ec7-47ae-d581-a00ebf31a17c"
      },
      "outputs": [
        {
          "data": {
            "text/plain": [
              "(1113, 16)"
            ]
          },
          "execution_count": 27,
          "metadata": {},
          "output_type": "execute_result"
        }
      ],
      "source": [
        "df[df['default'] == 1 ].shape #inadiplentes"
      ]
    },
    {
      "cell_type": "code",
      "execution_count": null,
      "id": "32b52a18",
      "metadata": {
        "execution": {
          "iopub.execute_input": "2024-10-16T14:39:07.770366Z",
          "iopub.status.busy": "2024-10-16T14:39:07.769856Z",
          "iopub.status.idle": "2024-10-16T14:39:07.783088Z",
          "shell.execute_reply": "2024-10-16T14:39:07.781371Z"
        },
        "papermill": {
          "duration": 0.033684,
          "end_time": "2024-10-16T14:39:07.786002",
          "exception": false,
          "start_time": "2024-10-16T14:39:07.752318",
          "status": "completed"
        },
        "tags": [],
        "id": "32b52a18",
        "outputId": "fb1e08ea-6853-4551-990e-188f5a453a5d"
      },
      "outputs": [
        {
          "name": "stdout",
          "output_type": "stream",
          "text": [
            "A proporcão adimplentes ativos é de 83.93%\n",
            "A nova proporcão de clientes adimplentes é de 84.28%\n",
            "\n",
            "A proporcão clientes inadimplentes é de 16.07%\n",
            "A nova proporcão de clientes inadimplentes é de 15.72%\n"
          ]
        }
      ],
      "source": [
        "qtd_total_novo, _ = df.shape\n",
        "qtd_adimplentes_novo, _ = df[df['default'] == 0].shape\n",
        "qtd_inadimplentes_novo, _ = df[df['default'] == 1].shape\n",
        "\n",
        "print(f\"A proporcão adimplentes ativos é de {round(100 * qtd_adimplentes / qtd_total, 2)}%\")\n",
        "print(f\"A nova proporcão de clientes adimplentes é de {round(100 * qtd_adimplentes_novo / qtd_total_novo, 2)}%\")\n",
        "print(\"\")\n",
        "print(f\"A proporcão clientes inadimplentes é de {round(100 * qtd_inadimplentes / qtd_total, 2)}%\")\n",
        "print(f\"A nova proporcão de clientes inadimplentes é de {round(100 * qtd_inadimplentes_novo / qtd_total_novo, 2)}%\")\n"
      ]
    },
    {
      "cell_type": "markdown",
      "id": "97361500",
      "metadata": {
        "papermill": {
          "duration": 0.014812,
          "end_time": "2024-10-16T14:39:07.816000",
          "exception": false,
          "start_time": "2024-10-16T14:39:07.801188",
          "status": "completed"
        },
        "tags": [],
        "id": "97361500"
      },
      "source": [
        "Visualização dos dados¶"
      ]
    },
    {
      "cell_type": "markdown",
      "id": "0d68aa37",
      "metadata": {
        "papermill": {
          "duration": 0.016056,
          "end_time": "2024-10-16T14:39:07.847559",
          "exception": false,
          "start_time": "2024-10-16T14:39:07.831503",
          "status": "completed"
        },
        "tags": [],
        "id": "0d68aa37"
      },
      "source": [
        "separando os adinplentes e inadimplentes"
      ]
    },
    {
      "cell_type": "code",
      "execution_count": null,
      "id": "5ab42357",
      "metadata": {
        "execution": {
          "iopub.execute_input": "2024-10-16T14:39:07.880924Z",
          "iopub.status.busy": "2024-10-16T14:39:07.880484Z",
          "iopub.status.idle": "2024-10-16T14:39:07.887733Z",
          "shell.execute_reply": "2024-10-16T14:39:07.886538Z"
        },
        "papermill": {
          "duration": 0.026874,
          "end_time": "2024-10-16T14:39:07.890189",
          "exception": false,
          "start_time": "2024-10-16T14:39:07.863315",
          "status": "completed"
        },
        "tags": [],
        "id": "5ab42357"
      },
      "outputs": [],
      "source": [
        "df_adimplentes = df[df['default'] == 0] #adimplentes"
      ]
    },
    {
      "cell_type": "code",
      "execution_count": null,
      "id": "3de4af13",
      "metadata": {
        "execution": {
          "iopub.execute_input": "2024-10-16T14:39:07.922079Z",
          "iopub.status.busy": "2024-10-16T14:39:07.921658Z",
          "iopub.status.idle": "2024-10-16T14:39:07.929020Z",
          "shell.execute_reply": "2024-10-16T14:39:07.927665Z"
        },
        "papermill": {
          "duration": 0.02622,
          "end_time": "2024-10-16T14:39:07.931419",
          "exception": false,
          "start_time": "2024-10-16T14:39:07.905199",
          "status": "completed"
        },
        "tags": [],
        "id": "3de4af13"
      },
      "outputs": [],
      "source": [
        "df_inadimplentes = df[df['default'] == 1] #inadimplentes\n"
      ]
    },
    {
      "cell_type": "markdown",
      "id": "dfc53ce2",
      "metadata": {
        "papermill": {
          "duration": 0.014724,
          "end_time": "2024-10-16T14:39:07.962436",
          "exception": false,
          "start_time": "2024-10-16T14:39:07.947712",
          "status": "completed"
        },
        "tags": [],
        "id": "dfc53ce2"
      },
      "source": [
        "salario anual"
      ]
    },
    {
      "cell_type": "code",
      "execution_count": null,
      "id": "171ce074",
      "metadata": {
        "execution": {
          "iopub.execute_input": "2024-10-16T14:39:07.994268Z",
          "iopub.status.busy": "2024-10-16T14:39:07.993833Z",
          "iopub.status.idle": "2024-10-16T14:39:09.052269Z",
          "shell.execute_reply": "2024-10-16T14:39:09.050932Z"
        },
        "papermill": {
          "duration": 1.077171,
          "end_time": "2024-10-16T14:39:09.054630",
          "exception": false,
          "start_time": "2024-10-16T14:39:07.977459",
          "status": "completed"
        },
        "tags": [],
        "id": "171ce074",
        "outputId": "828476eb-1fe3-4603-9125-e7ae0122ebec"
      },
      "outputs": [
        {
          "data": {
            "image/png": "[encoded data removed]",
            "text/plain": [
              "<Figure size 2000x500 with 3 Axes>"
            ]
          },
          "metadata": {},
          "output_type": "display_data"
        }
      ],
      "source": [
        "coluna = 'salario_anual'\n",
        "titulos = ['Salário anual dos clientes','Salário anual dos clientes Adimplentes','Salário anual dos clientes Inadimplentes']\n",
        "\n",
        "\n",
        "eixo = 0\n",
        "max_y = 0\n",
        "figura, eixos = plt.subplots(1,3, figsize=(20, 5), sharex=True)\n",
        "\n",
        "for dataframe in [df, df_adimplentes, df_inadimplentes]:\n",
        "\n",
        "    df_to_plot = dataframe[coluna].value_counts().reset_index()  # Cria um novo DataFrame com as contagens\n",
        "    df_to_plot.columns = [coluna, 'frequencia_absoluta']\n",
        "    df_to_plot.sort_values(by=[coluna], inplace=True)\n",
        "    f = sns.barplot(x=coluna, y='frequencia_absoluta', data=df_to_plot, ax=eixos[eixo])\n",
        "    f.set(title=titulos[eixo], xlabel=coluna.capitalize(), ylabel='Frequência Absoluta')\n",
        "    f.set_xticklabels(labels=df_to_plot[coluna], rotation=90)\n",
        "    _, max_y_f = f.get_ylim()\n",
        "    max_y = max_y_f if max_y_f > max_y else max_y\n",
        "    f.set(ylim=(0, max_y))\n",
        "    eixo += 1\n",
        "figura.show()"
      ]
    },
    {
      "cell_type": "markdown",
      "id": "0bfbd3c2",
      "metadata": {
        "papermill": {
          "duration": 0.015273,
          "end_time": "2024-10-16T14:39:09.085555",
          "exception": false,
          "start_time": "2024-10-16T14:39:09.070282",
          "status": "completed"
        },
        "tags": [],
        "id": "0bfbd3c2"
      },
      "source": [
        "comprando as variaveis categorias\n",
        "\n",
        "Analisando o atributo Escolaridade:"
      ]
    },
    {
      "cell_type": "code",
      "execution_count": null,
      "id": "98280452",
      "metadata": {
        "execution": {
          "iopub.execute_input": "2024-10-16T14:39:09.124888Z",
          "iopub.status.busy": "2024-10-16T14:39:09.123765Z",
          "iopub.status.idle": "2024-10-16T14:39:10.072335Z",
          "shell.execute_reply": "2024-10-16T14:39:10.071061Z"
        },
        "papermill": {
          "duration": 0.97036,
          "end_time": "2024-10-16T14:39:10.074712",
          "exception": false,
          "start_time": "2024-10-16T14:39:09.104352",
          "status": "completed"
        },
        "tags": [],
        "id": "98280452",
        "outputId": "18d5791c-334c-49c6-c452-b3f98bd34a94"
      },
      "outputs": [
        {
          "data": {
            "image/png": "[encoded data removed]",
            "text/plain": [
              "<Figure size 2000x500 with 3 Axes>"
            ]
          },
          "metadata": {},
          "output_type": "display_data"
        }
      ],
      "source": [
        "coluna = 'escolaridade'\n",
        "titulos = ['Escolaridade dos Clientes', 'Escolaridade dos Clientes Adimplentes', 'Escolaridade dos Clientes Inadimplentes']\n",
        "eixo = 0\n",
        "max_y = 0\n",
        "max = df.select_dtypes('object').describe()[coluna]['freq'] * 1.1\n",
        "figura, eixos = plt.subplots(1, 3, figsize=(20, 5), sharex=True)\n",
        "for dataframe in [df, df_adimplentes, df_inadimplentes]:\n",
        "\n",
        "    df_to_plot = dataframe[coluna].value_counts().reset_index()  # Cria um novo DataFrame com as contagens\n",
        "    df_to_plot.columns = [coluna, 'frequencia_absoluta']\n",
        "    df_to_plot.sort_values(by=[coluna], inplace=True)\n",
        "    f = sns.barplot(x=coluna, y='frequencia_absoluta', data=df_to_plot, ax=eixos[eixo])\n",
        "    f.set(title=titulos[eixo], xlabel=coluna.capitalize(), ylabel='Frequência Absoluta')\n",
        "    f.set_xticklabels(labels=df_to_plot[coluna], rotation=90)\n",
        "    _, max_y_f = f.get_ylim()\n",
        "    max_y = max_y_f if max_y_f > max_y else max_y\n",
        "    f.set(ylim=(0, max_y))\n",
        "    eixo += 1\n",
        "figura.show()\n"
      ]
    },
    {
      "cell_type": "markdown",
      "id": "5c82bfed",
      "metadata": {
        "papermill": {
          "duration": 0.016379,
          "end_time": "2024-10-16T14:39:10.107645",
          "exception": false,
          "start_time": "2024-10-16T14:39:10.091266",
          "status": "completed"
        },
        "tags": [],
        "id": "5c82bfed"
      },
      "source": [
        "Podemos notar que o atributo escolaridade não é relevante para o objetivo do projeto, pois a distribuição se mantém semelhante nos três gráficos.\n",
        "\n",
        "Analisando o atributo tipo_cartao:"
      ]
    },
    {
      "cell_type": "markdown",
      "id": "09419a79",
      "metadata": {
        "papermill": {
          "duration": 0.016082,
          "end_time": "2024-10-16T14:39:10.141262",
          "exception": false,
          "start_time": "2024-10-16T14:39:10.125180",
          "status": "completed"
        },
        "tags": [],
        "id": "09419a79"
      },
      "source": [
        "Para esse atributo podemos verificar algo interessante, apesar de poucos clientes possuírem o cartão gold, todos são adimplentes. Não há clientes com cartão platinum na base de dados."
      ]
    },
    {
      "cell_type": "code",
      "execution_count": null,
      "id": "67cd862a",
      "metadata": {
        "execution": {
          "iopub.execute_input": "2024-10-16T14:39:10.176641Z",
          "iopub.status.busy": "2024-10-16T14:39:10.176197Z",
          "iopub.status.idle": "2024-10-16T14:39:11.056439Z",
          "shell.execute_reply": "2024-10-16T14:39:11.055068Z"
        },
        "papermill": {
          "duration": 0.901457,
          "end_time": "2024-10-16T14:39:11.059067",
          "exception": false,
          "start_time": "2024-10-16T14:39:10.157610",
          "status": "completed"
        },
        "tags": [],
        "id": "67cd862a",
        "outputId": "32261856-185b-4cc0-d0b1-634e2d32a770"
      },
      "outputs": [
        {
          "data": {
            "image/png": "[encoded data removed]",
            "text/plain": [
              "<Figure size 2000x500 with 3 Axes>"
            ]
          },
          "metadata": {},
          "output_type": "display_data"
        }
      ],
      "source": [
        "# analisando o tipo do cartão\n",
        "\n",
        "coluna = 'tipo_cartao'\n",
        "titulos = ['Tipo de cartão dos clientes - Total','Tipo de cartão dos clientes Adimplentes','Tipo de cartão dos clientes Inadimplentes']\n",
        "\n",
        "\n",
        "eixo = 0\n",
        "max_y = 0\n",
        "figura, eixos = plt.subplots(1,3, figsize=(20, 5), sharex=True)\n",
        "\n",
        "for dataframe in [df, df_adimplentes, df_inadimplentes]:\n",
        "\n",
        "    df_to_plot = dataframe[coluna].value_counts().reset_index()  # Cria um novo DataFrame com as contagens\n",
        "    df_to_plot.columns = [coluna, 'frequencia_absoluta']\n",
        "    df_to_plot.sort_values(by=[coluna], inplace=True)\n",
        "    f = sns.barplot(x=coluna, y='frequencia_absoluta', data=df_to_plot, ax=eixos[eixo])\n",
        "    f.set(title=titulos[eixo], xlabel=coluna.capitalize(), ylabel='Frequência Absoluta')\n",
        "    f.set_xticklabels(labels=df_to_plot[coluna], rotation=90)\n",
        "    _, max_y_f = f.get_ylim()\n",
        "    max_y = max_y_f if max_y_f > max_y else max_y\n",
        "    f.set(ylim=(0, max_y))\n",
        "    eixo += 1\n",
        "figura.show()"
      ]
    },
    {
      "cell_type": "markdown",
      "id": "62761cbe",
      "metadata": {
        "papermill": {
          "duration": 0.016896,
          "end_time": "2024-10-16T14:39:11.093815",
          "exception": false,
          "start_time": "2024-10-16T14:39:11.076919",
          "status": "completed"
        },
        "tags": [],
        "id": "62761cbe"
      },
      "source": [
        "Analisando o atributo Quantidade de Transações nos Últimos 12 Meses:"
      ]
    },
    {
      "cell_type": "code",
      "execution_count": null,
      "id": "d1e09701",
      "metadata": {
        "execution": {
          "iopub.execute_input": "2024-10-16T14:39:11.130675Z",
          "iopub.status.busy": "2024-10-16T14:39:11.130208Z",
          "iopub.status.idle": "2024-10-16T14:39:12.606976Z",
          "shell.execute_reply": "2024-10-16T14:39:12.605829Z"
        },
        "papermill": {
          "duration": 1.498312,
          "end_time": "2024-10-16T14:39:12.609170",
          "exception": false,
          "start_time": "2024-10-16T14:39:11.110858",
          "status": "completed"
        },
        "tags": [],
        "id": "d1e09701",
        "outputId": "e4b22b5f-e43b-4bfa-e94a-653a6a6ceef7"
      },
      "outputs": [
        {
          "data": {
            "image/png": "[encoded data removed]",
            "text/plain": [
              "<Figure size 2000x500 with 3 Axes>"
            ]
          },
          "metadata": {},
          "output_type": "display_data"
        }
      ],
      "source": [
        "coluna = 'qtd_transacoes_12m'\n",
        "titulos = ['Qtd. de Transações no Último Ano', 'Qtd. de Transações no Último Ano de Adimplentes', 'Qtd. de Transações no Último Ano de Inadimplentes']\n",
        "\n",
        "\n",
        "eixo = 0\n",
        "max_y = 0\n",
        "figura, eixos = plt.subplots(1,3, figsize=(20, 5), sharex=True)\n",
        "\n",
        "for dataframe in [df, df_adimplentes, df_inadimplentes]:\n",
        "    f = sns.histplot(x=coluna, data=dataframe, stat='count', ax=eixos[eixo])\n",
        "    f.set(title=titulos[eixo], xlabel=coluna.capitalize(), ylabel='Frequência Absoluta')\n",
        "\n",
        "    _, max_y_f = f.get_ylim()\n",
        "    max_y = max_y_f if max_y_f > max_y else max_y\n",
        "    f.set(ylim=(0, max_y))\n",
        "\n",
        "    eixo += 1\n",
        "figura.show()"
      ]
    },
    {
      "cell_type": "markdown",
      "id": "9de4a46e",
      "metadata": {
        "papermill": {
          "duration": 0.017437,
          "end_time": "2024-10-16T14:39:12.644998",
          "exception": false,
          "start_time": "2024-10-16T14:39:12.627561",
          "status": "completed"
        },
        "tags": [],
        "id": "9de4a46e"
      },
      "source": [
        "No gráfico que representa todos os clientes, podemos notar dois picos: um em torno de 40 transações e outro em torno de 80 transações. No entanto qdo avaliamos o gráfico de adimplentes, apesar de termos os dois piscos semelhantes, o pico que ocorre em torno de 40 transações parece mais suave. E, ao avaliarmos o gráfico dos inadimplentes vemos um pico em torno de 40 transações, completanto o que falta no gráfico dos clientes adimplentes. Dessa forma podemos concluir que o atributo qtd_transacoes_12m tem relação com o obejtivo do projeto."
      ]
    },
    {
      "cell_type": "markdown",
      "id": "e4539cf0",
      "metadata": {
        "papermill": {
          "duration": 0.018172,
          "end_time": "2024-10-16T14:39:12.681580",
          "exception": false,
          "start_time": "2024-10-16T14:39:12.663408",
          "status": "completed"
        },
        "tags": [],
        "id": "e4539cf0"
      },
      "source": [
        "Verificando o atributo Valor das transações nos últimos 12 Meses"
      ]
    },
    {
      "cell_type": "code",
      "execution_count": null,
      "id": "eb5791c2",
      "metadata": {
        "execution": {
          "iopub.execute_input": "2024-10-16T14:39:12.718997Z",
          "iopub.status.busy": "2024-10-16T14:39:12.718560Z",
          "iopub.status.idle": "2024-10-16T14:39:14.073848Z",
          "shell.execute_reply": "2024-10-16T14:39:14.072732Z"
        },
        "papermill": {
          "duration": 1.37664,
          "end_time": "2024-10-16T14:39:14.076013",
          "exception": false,
          "start_time": "2024-10-16T14:39:12.699373",
          "status": "completed"
        },
        "tags": [],
        "id": "eb5791c2",
        "outputId": "4a35114f-614c-4e29-ec22-29c5736f5056"
      },
      "outputs": [
        {
          "data": {
            "text/plain": [
              "<bound method Figure.show of <Figure size 2000x500 with 3 Axes>>"
            ]
          },
          "execution_count": 35,
          "metadata": {},
          "output_type": "execute_result"
        },
        {
          "data": {
            "image/png": "[encoded data removed]",
            "text/plain": [
              "<Figure size 2000x500 with 3 Axes>"
            ]
          },
          "metadata": {},
          "output_type": "display_data"
        }
      ],
      "source": [
        "coluna = 'qtd_transacoes_12m'\n",
        "titulos = ['Transações no Último Ano', 'Transações no Último Ano de Adimplentes', 'Transações no Último Ano de Inadimplentes']\n",
        "\n",
        "eixo = 0\n",
        "max_y = 0\n",
        "figura, eixos = plt.subplots(1,3, figsize=(20, 5), sharex=True)\n",
        "\n",
        "for dataframe in [df, df_adimplentes, df_inadimplentes]:\n",
        "\n",
        "    f = sns.histplot(x=coluna, data=dataframe, stat='count', ax=eixos[eixo])\n",
        "    f.set(title=titulos[eixo], xlabel=coluna.capitalize(), ylabel='Frequência Absoluta')\n",
        "\n",
        "    _, max_y_f = f.get_ylim()\n",
        "    max_y = max_y_f if max_y_f > max_y else max_y\n",
        "    f.set(ylim=(0, max_y))\n",
        "\n",
        "    eixo += 1\n",
        "\n",
        "figura.show"
      ]
    },
    {
      "cell_type": "markdown",
      "id": "11e53947",
      "metadata": {
        "papermill": {
          "duration": 0.019449,
          "end_time": "2024-10-16T14:39:14.114858",
          "exception": false,
          "start_time": "2024-10-16T14:39:14.095409",
          "status": "completed"
        },
        "tags": [],
        "id": "11e53947"
      },
      "source": [
        "comparação valores\n"
      ]
    },
    {
      "cell_type": "code",
      "execution_count": null,
      "id": "23ad0cb4",
      "metadata": {
        "execution": {
          "iopub.execute_input": "2024-10-16T14:39:14.154045Z",
          "iopub.status.busy": "2024-10-16T14:39:14.153597Z",
          "iopub.status.idle": "2024-10-16T14:39:15.719742Z",
          "shell.execute_reply": "2024-10-16T14:39:15.718557Z"
        },
        "papermill": {
          "duration": 1.590152,
          "end_time": "2024-10-16T14:39:15.723295",
          "exception": false,
          "start_time": "2024-10-16T14:39:14.133143",
          "status": "completed"
        },
        "tags": [],
        "id": "23ad0cb4",
        "outputId": "52a20188-1af5-418d-f2c6-849d600f1398"
      },
      "outputs": [
        {
          "data": {
            "image/png": "[encoded data removed]",
            "text/plain": [
              "<Figure size 560.236x500 with 1 Axes>"
            ]
          },
          "metadata": {},
          "output_type": "display_data"
        }
      ],
      "source": [
        "f = sns.relplot(x='valor_transacoes_12m', y='qtd_transacoes_12m', data=df, hue='default')\n",
        "_ = f.set(\n",
        "    title='Relação entre Valor e Quantidade de Transações no Último Ano',\n",
        "    xlabel='Valor das Transações no Último Ano',\n",
        "    ylabel='Quantidade das Transações no Último Ano'\n",
        "  )"
      ]
    },
    {
      "cell_type": "markdown",
      "id": "08894912",
      "metadata": {
        "papermill": {
          "duration": 0.021463,
          "end_time": "2024-10-16T14:39:15.767121",
          "exception": false,
          "start_time": "2024-10-16T14:39:15.745658",
          "status": "completed"
        },
        "tags": [],
        "id": "08894912"
      },
      "source": [
        "# Conclusão"
      ]
    },
    {
      "cell_type": "markdown",
      "id": "ffcf274f",
      "metadata": {
        "papermill": {
          "duration": 0.021025,
          "end_time": "2024-10-16T14:39:15.809610",
          "exception": false,
          "start_time": "2024-10-16T14:39:15.788585",
          "status": "completed"
        },
        "tags": [],
        "id": "ffcf274f"
      },
      "source": [
        "Apesar de vários intervalos diferentes podemos notar com essa analise visual que clientes que fazem transaçoes com valor entre 6 e 10 mil por exemplo é seguro aumentar o limite até aproximadamente 4 mil. Para valores entre 3 e 4 mil o aumento pode ser maior sem risco de inadimplencia. Clientes com 90 ou mais transações ao ano o risco de inadimplencia é praticamente nulo, clientes com limite superior a 20 mil e com 90 transaçoes ou menos ao ano o risco de inadimplencia é moderado, limite superior a 34 mil aumenta para alto risco de inadimplencia"
      ]
    }
  ],
  "metadata": {
    "kaggle": {
      "accelerator": "none",
      "dataSources": [],
      "isGpuEnabled": false,
      "isInternetEnabled": true,
      "language": "python",
      "sourceType": "notebook"
    },
    "kernelspec": {
      "display_name": "Python 3",
      "language": "python",
      "name": "python3"
    },
    "language_info": {
      "codemirror_mode": {
        "name": "ipython",
        "version": 3
      },
      "file_extension": ".py",
      "mimetype": "text/x-python",
      "name": "python",
      "nbconvert_exporter": "python",
      "pygments_lexer": "ipython3",
      "version": "3.10.14"
    },
    "papermill": {
      "default_parameters": {},
      "duration": 16.278384,
      "end_time": "2024-10-16T14:39:16.554920",
      "environment_variables": {},
      "exception": null,
      "input_path": "__notebook__.ipynb",
      "output_path": "__notebook__.ipynb",
      "parameters": {},
      "start_time": "2024-10-16T14:39:00.276536",
      "version": "2.6.0"
    },
    "colab": {
      "provenance": [],
      "include_colab_link": true
    }
  },
  "nbformat": 4,
  "nbformat_minor": 5
}