{
  "nbformat": 4,
  "nbformat_minor": 0,
  "metadata": {
    "colab": {
      "private_outputs": true,
      "provenance": [],
      "authorship_tag": "ABX9TyNg69cPYnrAAtHy2kovrVfO",
      "include_colab_link": true
    },
    "kernelspec": {
      "name": "python3",
      "display_name": "Python 3"
    },
    "language_info": {
      "name": "python"
    }
  },
  "cells": [
    {
      "cell_type": "markdown",
      "metadata": {
        "id": "view-in-github",
        "colab_type": "text"
      },
      "source": [
        "<a href=\"https://colab.research.google.com/github/Thiago24041985/projeto-python/blob/main/Untitled277.ipynb\" target=\"_parent\"><img src=\"https://colab.research.google.com/assets/colab-badge.svg\" alt=\"Open In Colab\"/></a>"
      ]
    },
    {
      "cell_type": "markdown",
      "source": [
        "Introdução a extrutura de dados pandas"
      ],
      "metadata": {
        "id": "JhDdsorjfmQC"
      }
    },
    {
      "cell_type": "code",
      "source": [
        "# importar as bibliotecas\n",
        "import pandas as pd\n",
        "import numpy as np"
      ],
      "metadata": {
        "id": "i6fV06b3fvjO"
      },
      "execution_count": null,
      "outputs": []
    },
    {
      "cell_type": "code",
      "source": [
        "# series a partir de uma lista\n",
        "dados = ([20900,10450,4180,2090, 0])\n",
        "classeSocialSemIndex = pd.Series(dados)\n",
        "classeSocialSemIndex"
      ],
      "metadata": {
        "id": "cIA54LwPf5_o"
      },
      "execution_count": null,
      "outputs": []
    },
    {
      "cell_type": "code",
      "source": [
        "Index = pd.Series([20900,10450,4180,2090, 0])\n",
        "Index"
      ],
      "metadata": {
        "id": "gmZ1neLegVwc"
      },
      "execution_count": null,
      "outputs": []
    },
    {
      "cell_type": "code",
      "source": [
        "classeSocialSemIndex[0]"
      ],
      "metadata": {
        "id": "G7WWc3uwtqji"
      },
      "execution_count": null,
      "outputs": []
    },
    {
      "cell_type": "code",
      "source": [
        "classeSocialSemIndex.index"
      ],
      "metadata": {
        "id": "PcKrhoaatqTv"
      },
      "execution_count": null,
      "outputs": []
    },
    {
      "cell_type": "code",
      "source": [
        "classeSocialComIndex = pd.Series([20900,10450,4180,2090, 0],\n",
        "                                index=['A','B','C','D','E'])\n",
        "classeSocialComIndex"
      ],
      "metadata": {
        "id": "p-YpUtYYt7Rq"
      },
      "execution_count": null,
      "outputs": []
    },
    {
      "cell_type": "code",
      "source": [
        "classeSocialComIndex['A']"
      ],
      "metadata": {
        "id": "NENm1rYev3Gu"
      },
      "execution_count": null,
      "outputs": []
    },
    {
      "cell_type": "code",
      "source": [
        "classeSocialComIndex.values"
      ],
      "metadata": {
        "id": "H0JnYjqmv23D"
      },
      "execution_count": null,
      "outputs": []
    },
    {
      "cell_type": "code",
      "source": [
        "classeSocialComIndex.index"
      ],
      "metadata": {
        "id": "edXcpn-_wn9i"
      },
      "execution_count": null,
      "outputs": []
    },
    {
      "cell_type": "code",
      "source": [
        "classeSocialComIndex['A':'C']"
      ],
      "metadata": {
        "id": "dyL-_xg-wnwL"
      },
      "execution_count": null,
      "outputs": []
    },
    {
      "cell_type": "code",
      "source": [
        "classeSocialComIndex = pd.Series([20900,10450,4180,2090, 0],\n",
        "                                 index=[10,1,3,9,8])\n",
        "classeSocialComIndex"
      ],
      "metadata": {
        "id": "XwOCGZbixDzZ"
      },
      "execution_count": null,
      "outputs": []
    },
    {
      "cell_type": "code",
      "source": [
        "classeSocialComIndex[8]"
      ],
      "metadata": {
        "id": "p3iBopShxDj1"
      },
      "execution_count": null,
      "outputs": []
    },
    {
      "cell_type": "markdown",
      "source": [
        "Serie a partir de um dicionario\n",
        "\n",
        "classe_A    209000\n",
        "classe_B    10.450\n",
        "classe_C    4180\n",
        "classe_D    2090\n",
        "classe_E    0\n",
        "\n",
        "\n"
      ],
      "metadata": {
        "id": "1SSkS94Cxp_D"
      }
    },
    {
      "cell_type": "code",
      "source": [
        "classeSocialDict = {'classe_A':209000,\n",
        "                    'classe_B':10450,\n",
        "                    'classe_C':4180,\n",
        "                    'classe_D':2090,\n",
        "                    'classe_E':0}\n",
        "classeSocialSeries = pd.Series(classeSocialDict)\n",
        "classeSocialSeries"
      ],
      "metadata": {
        "id": "X0Zd8jqIyhqC"
      },
      "execution_count": null,
      "outputs": []
    },
    {
      "cell_type": "code",
      "source": [
        "classeSocialSeries['classe_C']"
      ],
      "metadata": {
        "id": "1n6seWGWz2kX"
      },
      "execution_count": null,
      "outputs": []
    },
    {
      "cell_type": "code",
      "source": [
        "classeSocialSeries['classe_C':'classe_E']"
      ],
      "metadata": {
        "id": "4d5Sxx3H0FRW"
      },
      "execution_count": null,
      "outputs": []
    },
    {
      "cell_type": "code",
      "source": [
        "# Serie a partir do NDArray\n",
        "pd.Series(np.random.randn(8))"
      ],
      "metadata": {
        "id": "WhhDwqsQ0Rtm"
      },
      "execution_count": null,
      "outputs": []
    },
    {
      "cell_type": "code",
      "source": [
        "# serie a partir de uma escala\n",
        "pd.Series(5, index=[1,2,3,4])"
      ],
      "metadata": {
        "id": "A8I24ioA06Ez"
      },
      "execution_count": null,
      "outputs": []
    },
    {
      "cell_type": "markdown",
      "source": [
        "Pandas DataFrame"
      ],
      "metadata": {
        "id": "pe_wdadO1Ont"
      }
    },
    {
      "cell_type": "code",
      "source": [
        "pd.DataFrame([2,4,5,6,8,10])"
      ],
      "metadata": {
        "id": "_0FzF9rb1Mgk"
      },
      "execution_count": null,
      "outputs": []
    },
    {
      "cell_type": "code",
      "source": [
        "pd.DataFrame([2,4,5,6,8,10],\n",
        "             columns=['numeros'])"
      ],
      "metadata": {
        "id": "YR_-3Q4f107q"
      },
      "execution_count": null,
      "outputs": []
    },
    {
      "cell_type": "code",
      "source": [
        "# DataFrame a partir de um dicionario com lista\n",
        "pd.DataFrame({'impar': [1,3,5,9,]})"
      ],
      "metadata": {
        "id": "5LwiVHUq2IXw"
      },
      "execution_count": null,
      "outputs": []
    },
    {
      "cell_type": "code",
      "source": [
        "# a patir de um dicionario com 2 lista"
      ],
      "metadata": {
        "id": "et9KKmMq2kSE"
      },
      "execution_count": null,
      "outputs": []
    }
  ]
}